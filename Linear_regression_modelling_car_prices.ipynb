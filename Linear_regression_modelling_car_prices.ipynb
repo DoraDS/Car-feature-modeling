{
  "nbformat": 4,
  "nbformat_minor": 0,
  "metadata": {
    "colab": {
      "provenance": [],
      "collapsed_sections": []
    },
    "kernelspec": {
      "name": "python3",
      "display_name": "Python 3"
    },
    "language_info": {
      "name": "python"
    }
  },
  "cells": [
    {
      "cell_type": "markdown",
      "source": [
        "**Web scraping**"
      ],
      "metadata": {
        "id": "K0IJ3eyW7JsA"
      }
    },
    {
      "cell_type": "code",
      "execution_count": 1,
      "metadata": {
        "colab": {
          "base_uri": "https://localhost:8080/"
        },
        "id": "zVLFzd_i6Wuj",
        "outputId": "af1e1d1c-e780-421d-d139-f904263869c9"
      },
      "outputs": [
        {
          "output_type": "stream",
          "name": "stdout",
          "text": [
            "Looking in indexes: https://pypi.org/simple, https://us-python.pkg.dev/colab-wheels/public/simple/\n",
            "Requirement already satisfied: autotrader-scraper in /usr/local/lib/python3.7/dist-packages (0.1.1)\n"
          ]
        }
      ],
      "source": [
        "# Installing a package that allows obtaining data from the autotrader website (1)\n",
        "\n",
        "!pip install autotrader-scraper"
      ]
    },
    {
      "cell_type": "code",
      "source": [
        "# Installing a package that allows obtaining data from the web (2)\n",
        "!pip install cloudscraper "
      ],
      "metadata": {
        "colab": {
          "base_uri": "https://localhost:8080/"
        },
        "id": "zRCrRyKX6s7J",
        "outputId": "449d9eac-c019-4856-81dc-0c4c49382e37"
      },
      "execution_count": 2,
      "outputs": [
        {
          "output_type": "stream",
          "name": "stdout",
          "text": [
            "Looking in indexes: https://pypi.org/simple, https://us-python.pkg.dev/colab-wheels/public/simple/\n",
            "Requirement already satisfied: cloudscraper in /usr/local/lib/python3.7/dist-packages (1.2.64)\n",
            "Requirement already satisfied: requests-toolbelt>=0.9.1 in /usr/local/lib/python3.7/dist-packages (from cloudscraper) (0.10.1)\n",
            "Requirement already satisfied: pyparsing>=2.4.7 in /usr/local/lib/python3.7/dist-packages (from cloudscraper) (3.0.9)\n",
            "Requirement already satisfied: requests>=2.9.2 in /usr/local/lib/python3.7/dist-packages (from cloudscraper) (2.23.0)\n",
            "Requirement already satisfied: idna<3,>=2.5 in /usr/local/lib/python3.7/dist-packages (from requests>=2.9.2->cloudscraper) (2.10)\n",
            "Requirement already satisfied: certifi>=2017.4.17 in /usr/local/lib/python3.7/dist-packages (from requests>=2.9.2->cloudscraper) (2022.9.24)\n",
            "Requirement already satisfied: urllib3!=1.25.0,!=1.25.1,<1.26,>=1.21.1 in /usr/local/lib/python3.7/dist-packages (from requests>=2.9.2->cloudscraper) (1.24.3)\n",
            "Requirement already satisfied: chardet<4,>=3.0.2 in /usr/local/lib/python3.7/dist-packages (from requests>=2.9.2->cloudscraper) (3.0.4)\n"
          ]
        }
      ]
    },
    {
      "cell_type": "code",
      "source": [
        "#Importing relevant libraries and functions\n",
        "from autotrader_scraper import get_cars, save_csv, save_json\n",
        "import os\n",
        "import pandas as pd"
      ],
      "metadata": {
        "id": "Q-jBIRU-6uvu"
      },
      "execution_count": 3,
      "outputs": []
    },
    {
      "cell_type": "code",
      "source": [
        "pd.set_option('display.max_columns', None)"
      ],
      "metadata": {
        "id": "bzblz7kZYTnP"
      },
      "execution_count": null,
      "outputs": []
    },
    {
      "cell_type": "code",
      "source": [
        "#List of BMW car models from the Autotrader website\n",
        "\n",
        "#wanted_cars = ['2 Series', '2 Series Active Tourer', '2 Series Gran Tourer', '3 Series', '4 Series', '4 Series Gran Coupe', '5 Series', '7 Series', 'M3', 'M4', 'X1', 'X2', 'X3', 'X5', 'X6', 'Z4']\n",
        "wanted_cars = ['2 Series', '2 Series Active Tourer', '2 Series Gran Tourer', '3 Series', '4 Series', '4 Series Gran Coupe', '5 Series', '7 Series', 'M3']"
      ],
      "metadata": {
        "id": "ViXrhn_S6xxP"
      },
      "execution_count": 5,
      "outputs": []
    },
    {
      "cell_type": "code",
      "source": [
        "#Function saves the webscrapes in .csv\n",
        "#Potential improvement - specify folder in which the file is saved\n",
        "\n",
        "def return_results(model):\n",
        "    \"\"\" Function to run the get_cars webscrap for the make and model inputted\"\"\"\n",
        "    save_csv(results = get_cars(\n",
        "             make = 'BMW',\n",
        "             model = model,\n",
        "             postcode = \"N1 9UZ\",\n",
        "             radius = 1500,\n",
        "             min_year = 2005,\n",
        "             max_year = 2021,\n",
        "             include_writeoff = \"include\",\n",
        "             max_attempts_per_page = 5,\n",
        "             verbose = False\n",
        "            ))\n",
        "    filename = 'BMW' + '_' + model + '.txt'\n",
        "    os.rename('scraper_output.csv', filename)"
      ],
      "metadata": {
        "id": "K1FYfECM61jf"
      },
      "execution_count": 6,
      "outputs": []
    },
    {
      "cell_type": "code",
      "source": [
        "#This took about 3 hours to run\n",
        "\n",
        "for car in wanted_cars:\n",
        "    return_results(car)"
      ],
      "metadata": {
        "id": "Csx8lOc163lF"
      },
      "execution_count": 7,
      "outputs": []
    },
    {
      "cell_type": "markdown",
      "source": [
        "**Importing data**"
      ],
      "metadata": {
        "id": "xBHtt_4OiI6X"
      }
    },
    {
      "cell_type": "code",
      "source": [
        "import glob\n",
        "import os\n",
        "import pandas as pd\n",
        "import numpy as np\n",
        "import seaborn as sns  # visualisation\n",
        "import matplotlib.pyplot as plt  # visualisation\n",
        "from sklearn.linear_model import LinearRegression # package to build the linear regression model\n",
        "from sklearn import metrics  # contains functions for module evaluation\n",
        "import statsmodels.api as sm  # package to build the linear regression model\n",
        "from sklearn.preprocessing import StandardScaler  # for scaling the data\n",
        "from sklearn.model_selection import train_test_split # module to split data into train and test sets\n",
        "from statsmodels.stats.outliers_influence import variance_inflation_factor # for determining multicoliniearity\n",
        "\n",
        "%matplotlib inline"
      ],
      "metadata": {
        "id": "rpM8Ufjs65zI"
      },
      "execution_count": 4,
      "outputs": []
    },
    {
      "cell_type": "code",
      "source": [
        "# Selecting files from the google collab directory\n",
        "\n",
        "file_directory = r'/content/'\n",
        "\n",
        "file_path = os.path.join(file_directory, \"*.txt\")\n",
        "\n",
        "all_files = glob.glob(file_path)"
      ],
      "metadata": {
        "id": "ccFYvrvUiN9s"
      },
      "execution_count": 9,
      "outputs": []
    },
    {
      "cell_type": "code",
      "source": [
        "# Checking the list of files from the local directory\n",
        "\n",
        "all_files"
      ],
      "metadata": {
        "colab": {
          "base_uri": "https://localhost:8080/"
        },
        "id": "WEeLksKGiRrH",
        "outputId": "b992ef1f-1609-492c-ddf9-c112a8daf19c"
      },
      "execution_count": 10,
      "outputs": [
        {
          "output_type": "execute_result",
          "data": {
            "text/plain": [
              "['/content/BMW_5 Series.txt',\n",
              " '/content/BMW_3 Series.txt',\n",
              " '/content/BMW_2 Series.txt',\n",
              " '/content/BMW_7 Series.txt',\n",
              " '/content/BMW_4 Series Gran Coupe.txt',\n",
              " '/content/BMW_2 Series Gran Tourer.txt',\n",
              " '/content/BMW_M3.txt',\n",
              " '/content/BMW_2 Series Active Tourer.txt',\n",
              " '/content/BMW_4 Series.txt']"
            ]
          },
          "metadata": {},
          "execution_count": 10
        }
      ]
    },
    {
      "cell_type": "code",
      "source": [
        "# Collecting and reading all_files\n",
        "\n",
        "dataframes = []\n",
        "\n",
        "for filename in all_files:\n",
        "\n",
        "    #parameters are important to allow reading in the .txt files\n",
        "    df = pd.read_csv(filename, encoding = 'utf-8', encoding_errors='ignore')\n",
        "\n",
        "    #adding a column called filename to confirm that the correct files were exctracted\n",
        "    df['filename'] = os.path.basename(filename)\n",
        "    \n",
        "    dataframes.append(df)\n",
        "\n",
        "cars = pd.concat(dataframes, axis=0, ignore_index=True)"
      ],
      "metadata": {
        "id": "COIS-b7riT9a"
      },
      "execution_count": 18,
      "outputs": []
    },
    {
      "cell_type": "markdown",
      "source": [
        "**Exploring data**"
      ],
      "metadata": {
        "id": "JJq-LhogiYZY"
      }
    },
    {
      "cell_type": "code",
      "source": [
        "cars.head()"
      ],
      "metadata": {
        "colab": {
          "base_uri": "https://localhost:8080/",
          "height": 424
        },
        "id": "F1UBtKvSiWsp",
        "outputId": "4834c46f-83dc-4c3e-da13-691684d43bc3"
      },
      "execution_count": 19,
      "outputs": [
        {
          "output_type": "execute_result",
          "data": {
            "text/plain": [
              "           name                                               link   price  \\\n",
              "0  BMW 5 Series                       https://www.autotrader.co.uk  £2,760   \n",
              "1  BMW 5 Series  https://www.autotrader.co.uk/dealers/bedfordsh...  £4,480   \n",
              "2  BMW 5 Series  https://www.autotrader.co.uk/dealers/surrey/wo...  £2,495   \n",
              "3  BMW 5 Series  https://www.autotrader.co.uk/dealers/northampt...  £2,995   \n",
              "4  BMW 5 Series  https://www.autotrader.co.uk/dealers/leicester...  £1,990   \n",
              "\n",
              "    mileage  BHP transmission    fuel  owners    body ULEZ engine  \\\n",
              "0  183000.0  NaN       Manual  Diesel     3.0  Saloon  NaN   3.0L   \n",
              "1  129000.0  NaN    Automatic  Diesel     NaN  Saloon  NaN   3.0L   \n",
              "2   34000.0  NaN    Automatic  Petrol     2.0  Saloon  NaN   3.0L   \n",
              "3  133000.0  NaN    Automatic  Diesel     3.0  Saloon  NaN   2.5L   \n",
              "4  186000.0  NaN       Manual  Diesel     NaN  Estate  NaN   2.0L   \n",
              "\n",
              "            year          filename  \n",
              "0  2005 (05 reg)  BMW_5 Series.txt  \n",
              "1  2005 (05 reg)  BMW_5 Series.txt  \n",
              "2  2005 (05 reg)  BMW_5 Series.txt  \n",
              "3  2005 (55 reg)  BMW_5 Series.txt  \n",
              "4  2005 (55 reg)  BMW_5 Series.txt  "
            ],
            "text/html": [
              "\n",
              "  <div id=\"df-92b523e0-4e69-4001-a60f-b2023f4a6bab\">\n",
              "    <div class=\"colab-df-container\">\n",
              "      <div>\n",
              "<style scoped>\n",
              "    .dataframe tbody tr th:only-of-type {\n",
              "        vertical-align: middle;\n",
              "    }\n",
              "\n",
              "    .dataframe tbody tr th {\n",
              "        vertical-align: top;\n",
              "    }\n",
              "\n",
              "    .dataframe thead th {\n",
              "        text-align: right;\n",
              "    }\n",
              "</style>\n",
              "<table border=\"1\" class=\"dataframe\">\n",
              "  <thead>\n",
              "    <tr style=\"text-align: right;\">\n",
              "      <th></th>\n",
              "      <th>name</th>\n",
              "      <th>link</th>\n",
              "      <th>price</th>\n",
              "      <th>mileage</th>\n",
              "      <th>BHP</th>\n",
              "      <th>transmission</th>\n",
              "      <th>fuel</th>\n",
              "      <th>owners</th>\n",
              "      <th>body</th>\n",
              "      <th>ULEZ</th>\n",
              "      <th>engine</th>\n",
              "      <th>year</th>\n",
              "      <th>filename</th>\n",
              "    </tr>\n",
              "  </thead>\n",
              "  <tbody>\n",
              "    <tr>\n",
              "      <th>0</th>\n",
              "      <td>BMW 5 Series</td>\n",
              "      <td>https://www.autotrader.co.uk</td>\n",
              "      <td>£2,760</td>\n",
              "      <td>183000.0</td>\n",
              "      <td>NaN</td>\n",
              "      <td>Manual</td>\n",
              "      <td>Diesel</td>\n",
              "      <td>3.0</td>\n",
              "      <td>Saloon</td>\n",
              "      <td>NaN</td>\n",
              "      <td>3.0L</td>\n",
              "      <td>2005 (05 reg)</td>\n",
              "      <td>BMW_5 Series.txt</td>\n",
              "    </tr>\n",
              "    <tr>\n",
              "      <th>1</th>\n",
              "      <td>BMW 5 Series</td>\n",
              "      <td>https://www.autotrader.co.uk/dealers/bedfordsh...</td>\n",
              "      <td>£4,480</td>\n",
              "      <td>129000.0</td>\n",
              "      <td>NaN</td>\n",
              "      <td>Automatic</td>\n",
              "      <td>Diesel</td>\n",
              "      <td>NaN</td>\n",
              "      <td>Saloon</td>\n",
              "      <td>NaN</td>\n",
              "      <td>3.0L</td>\n",
              "      <td>2005 (05 reg)</td>\n",
              "      <td>BMW_5 Series.txt</td>\n",
              "    </tr>\n",
              "    <tr>\n",
              "      <th>2</th>\n",
              "      <td>BMW 5 Series</td>\n",
              "      <td>https://www.autotrader.co.uk/dealers/surrey/wo...</td>\n",
              "      <td>£2,495</td>\n",
              "      <td>34000.0</td>\n",
              "      <td>NaN</td>\n",
              "      <td>Automatic</td>\n",
              "      <td>Petrol</td>\n",
              "      <td>2.0</td>\n",
              "      <td>Saloon</td>\n",
              "      <td>NaN</td>\n",
              "      <td>3.0L</td>\n",
              "      <td>2005 (05 reg)</td>\n",
              "      <td>BMW_5 Series.txt</td>\n",
              "    </tr>\n",
              "    <tr>\n",
              "      <th>3</th>\n",
              "      <td>BMW 5 Series</td>\n",
              "      <td>https://www.autotrader.co.uk/dealers/northampt...</td>\n",
              "      <td>£2,995</td>\n",
              "      <td>133000.0</td>\n",
              "      <td>NaN</td>\n",
              "      <td>Automatic</td>\n",
              "      <td>Diesel</td>\n",
              "      <td>3.0</td>\n",
              "      <td>Saloon</td>\n",
              "      <td>NaN</td>\n",
              "      <td>2.5L</td>\n",
              "      <td>2005 (55 reg)</td>\n",
              "      <td>BMW_5 Series.txt</td>\n",
              "    </tr>\n",
              "    <tr>\n",
              "      <th>4</th>\n",
              "      <td>BMW 5 Series</td>\n",
              "      <td>https://www.autotrader.co.uk/dealers/leicester...</td>\n",
              "      <td>£1,990</td>\n",
              "      <td>186000.0</td>\n",
              "      <td>NaN</td>\n",
              "      <td>Manual</td>\n",
              "      <td>Diesel</td>\n",
              "      <td>NaN</td>\n",
              "      <td>Estate</td>\n",
              "      <td>NaN</td>\n",
              "      <td>2.0L</td>\n",
              "      <td>2005 (55 reg)</td>\n",
              "      <td>BMW_5 Series.txt</td>\n",
              "    </tr>\n",
              "  </tbody>\n",
              "</table>\n",
              "</div>\n",
              "      <button class=\"colab-df-convert\" onclick=\"convertToInteractive('df-92b523e0-4e69-4001-a60f-b2023f4a6bab')\"\n",
              "              title=\"Convert this dataframe to an interactive table.\"\n",
              "              style=\"display:none;\">\n",
              "        \n",
              "  <svg xmlns=\"http://www.w3.org/2000/svg\" height=\"24px\"viewBox=\"0 0 24 24\"\n",
              "       width=\"24px\">\n",
              "    <path d=\"M0 0h24v24H0V0z\" fill=\"none\"/>\n",
              "    <path d=\"M18.56 5.44l.94 2.06.94-2.06 2.06-.94-2.06-.94-.94-2.06-.94 2.06-2.06.94zm-11 1L8.5 8.5l.94-2.06 2.06-.94-2.06-.94L8.5 2.5l-.94 2.06-2.06.94zm10 10l.94 2.06.94-2.06 2.06-.94-2.06-.94-.94-2.06-.94 2.06-2.06.94z\"/><path d=\"M17.41 7.96l-1.37-1.37c-.4-.4-.92-.59-1.43-.59-.52 0-1.04.2-1.43.59L10.3 9.45l-7.72 7.72c-.78.78-.78 2.05 0 2.83L4 21.41c.39.39.9.59 1.41.59.51 0 1.02-.2 1.41-.59l7.78-7.78 2.81-2.81c.8-.78.8-2.07 0-2.86zM5.41 20L4 18.59l7.72-7.72 1.47 1.35L5.41 20z\"/>\n",
              "  </svg>\n",
              "      </button>\n",
              "      \n",
              "  <style>\n",
              "    .colab-df-container {\n",
              "      display:flex;\n",
              "      flex-wrap:wrap;\n",
              "      gap: 12px;\n",
              "    }\n",
              "\n",
              "    .colab-df-convert {\n",
              "      background-color: #E8F0FE;\n",
              "      border: none;\n",
              "      border-radius: 50%;\n",
              "      cursor: pointer;\n",
              "      display: none;\n",
              "      fill: #1967D2;\n",
              "      height: 32px;\n",
              "      padding: 0 0 0 0;\n",
              "      width: 32px;\n",
              "    }\n",
              "\n",
              "    .colab-df-convert:hover {\n",
              "      background-color: #E2EBFA;\n",
              "      box-shadow: 0px 1px 2px rgba(60, 64, 67, 0.3), 0px 1px 3px 1px rgba(60, 64, 67, 0.15);\n",
              "      fill: #174EA6;\n",
              "    }\n",
              "\n",
              "    [theme=dark] .colab-df-convert {\n",
              "      background-color: #3B4455;\n",
              "      fill: #D2E3FC;\n",
              "    }\n",
              "\n",
              "    [theme=dark] .colab-df-convert:hover {\n",
              "      background-color: #434B5C;\n",
              "      box-shadow: 0px 1px 3px 1px rgba(0, 0, 0, 0.15);\n",
              "      filter: drop-shadow(0px 1px 2px rgba(0, 0, 0, 0.3));\n",
              "      fill: #FFFFFF;\n",
              "    }\n",
              "  </style>\n",
              "\n",
              "      <script>\n",
              "        const buttonEl =\n",
              "          document.querySelector('#df-92b523e0-4e69-4001-a60f-b2023f4a6bab button.colab-df-convert');\n",
              "        buttonEl.style.display =\n",
              "          google.colab.kernel.accessAllowed ? 'block' : 'none';\n",
              "\n",
              "        async function convertToInteractive(key) {\n",
              "          const element = document.querySelector('#df-92b523e0-4e69-4001-a60f-b2023f4a6bab');\n",
              "          const dataTable =\n",
              "            await google.colab.kernel.invokeFunction('convertToInteractive',\n",
              "                                                     [key], {});\n",
              "          if (!dataTable) return;\n",
              "\n",
              "          const docLinkHtml = 'Like what you see? Visit the ' +\n",
              "            '<a target=\"_blank\" href=https://colab.research.google.com/notebooks/data_table.ipynb>data table notebook</a>'\n",
              "            + ' to learn more about interactive tables.';\n",
              "          element.innerHTML = '';\n",
              "          dataTable['output_type'] = 'display_data';\n",
              "          await google.colab.output.renderOutput(dataTable, element);\n",
              "          const docLink = document.createElement('div');\n",
              "          docLink.innerHTML = docLinkHtml;\n",
              "          element.appendChild(docLink);\n",
              "        }\n",
              "      </script>\n",
              "    </div>\n",
              "  </div>\n",
              "  "
            ]
          },
          "metadata": {},
          "execution_count": 19
        }
      ]
    },
    {
      "cell_type": "code",
      "source": [
        "# checking for a specific car name\n",
        "\n",
        "cars[cars['name'] == 'BMW 2 Series'].head()"
      ],
      "metadata": {
        "colab": {
          "base_uri": "https://localhost:8080/",
          "height": 424
        },
        "id": "aleSZ_F9idAI",
        "outputId": "55381c31-e70e-4c73-a23e-c2539cf07252"
      },
      "execution_count": 21,
      "outputs": [
        {
          "output_type": "execute_result",
          "data": {
            "text/plain": [
              "              name                                               link  \\\n",
              "7223  BMW 2 Series                       https://www.autotrader.co.uk   \n",
              "7224  BMW 2 Series  https://www.autotrader.co.uk/dealers/kent/roch...   \n",
              "7225  BMW 2 Series  https://www.autotrader.co.uk/dealers/middlesex...   \n",
              "7227  BMW 2 Series  https://www.autotrader.co.uk/dealers/hertfords...   \n",
              "7228  BMW 2 Series                       https://www.autotrader.co.uk   \n",
              "\n",
              "        price  mileage  BHP transmission    fuel  owners   body  ULEZ engine  \\\n",
              "7223  £11,000  75420.0  NaN    Automatic  Diesel     2.0  Coupe  ULEZ   2.0L   \n",
              "7224   £8,000  72844.0  NaN       Manual  Diesel     2.0  Coupe  ULEZ   2.0L   \n",
              "7225  £13,689  66208.0  NaN    Automatic  Petrol     NaN  Coupe  ULEZ   2.0L   \n",
              "7227  £13,740  73000.0  NaN       Manual  Petrol     NaN  Coupe  ULEZ   2.0L   \n",
              "7228   £9,005  87000.0  NaN       Manual  Diesel     3.0  Coupe  ULEZ   2.0L   \n",
              "\n",
              "               year          filename  \n",
              "7223  2013 (13 reg)  BMW_2 Series.txt  \n",
              "7224  2014 (14 reg)  BMW_2 Series.txt  \n",
              "7225  2014 (64 reg)  BMW_2 Series.txt  \n",
              "7227  2014 (14 reg)  BMW_2 Series.txt  \n",
              "7228  2014 (14 reg)  BMW_2 Series.txt  "
            ],
            "text/html": [
              "\n",
              "  <div id=\"df-79e09964-b072-4c4c-b1b9-aec69b6e9c71\">\n",
              "    <div class=\"colab-df-container\">\n",
              "      <div>\n",
              "<style scoped>\n",
              "    .dataframe tbody tr th:only-of-type {\n",
              "        vertical-align: middle;\n",
              "    }\n",
              "\n",
              "    .dataframe tbody tr th {\n",
              "        vertical-align: top;\n",
              "    }\n",
              "\n",
              "    .dataframe thead th {\n",
              "        text-align: right;\n",
              "    }\n",
              "</style>\n",
              "<table border=\"1\" class=\"dataframe\">\n",
              "  <thead>\n",
              "    <tr style=\"text-align: right;\">\n",
              "      <th></th>\n",
              "      <th>name</th>\n",
              "      <th>link</th>\n",
              "      <th>price</th>\n",
              "      <th>mileage</th>\n",
              "      <th>BHP</th>\n",
              "      <th>transmission</th>\n",
              "      <th>fuel</th>\n",
              "      <th>owners</th>\n",
              "      <th>body</th>\n",
              "      <th>ULEZ</th>\n",
              "      <th>engine</th>\n",
              "      <th>year</th>\n",
              "      <th>filename</th>\n",
              "    </tr>\n",
              "  </thead>\n",
              "  <tbody>\n",
              "    <tr>\n",
              "      <th>7223</th>\n",
              "      <td>BMW 2 Series</td>\n",
              "      <td>https://www.autotrader.co.uk</td>\n",
              "      <td>£11,000</td>\n",
              "      <td>75420.0</td>\n",
              "      <td>NaN</td>\n",
              "      <td>Automatic</td>\n",
              "      <td>Diesel</td>\n",
              "      <td>2.0</td>\n",
              "      <td>Coupe</td>\n",
              "      <td>ULEZ</td>\n",
              "      <td>2.0L</td>\n",
              "      <td>2013 (13 reg)</td>\n",
              "      <td>BMW_2 Series.txt</td>\n",
              "    </tr>\n",
              "    <tr>\n",
              "      <th>7224</th>\n",
              "      <td>BMW 2 Series</td>\n",
              "      <td>https://www.autotrader.co.uk/dealers/kent/roch...</td>\n",
              "      <td>£8,000</td>\n",
              "      <td>72844.0</td>\n",
              "      <td>NaN</td>\n",
              "      <td>Manual</td>\n",
              "      <td>Diesel</td>\n",
              "      <td>2.0</td>\n",
              "      <td>Coupe</td>\n",
              "      <td>ULEZ</td>\n",
              "      <td>2.0L</td>\n",
              "      <td>2014 (14 reg)</td>\n",
              "      <td>BMW_2 Series.txt</td>\n",
              "    </tr>\n",
              "    <tr>\n",
              "      <th>7225</th>\n",
              "      <td>BMW 2 Series</td>\n",
              "      <td>https://www.autotrader.co.uk/dealers/middlesex...</td>\n",
              "      <td>£13,689</td>\n",
              "      <td>66208.0</td>\n",
              "      <td>NaN</td>\n",
              "      <td>Automatic</td>\n",
              "      <td>Petrol</td>\n",
              "      <td>NaN</td>\n",
              "      <td>Coupe</td>\n",
              "      <td>ULEZ</td>\n",
              "      <td>2.0L</td>\n",
              "      <td>2014 (64 reg)</td>\n",
              "      <td>BMW_2 Series.txt</td>\n",
              "    </tr>\n",
              "    <tr>\n",
              "      <th>7227</th>\n",
              "      <td>BMW 2 Series</td>\n",
              "      <td>https://www.autotrader.co.uk/dealers/hertfords...</td>\n",
              "      <td>£13,740</td>\n",
              "      <td>73000.0</td>\n",
              "      <td>NaN</td>\n",
              "      <td>Manual</td>\n",
              "      <td>Petrol</td>\n",
              "      <td>NaN</td>\n",
              "      <td>Coupe</td>\n",
              "      <td>ULEZ</td>\n",
              "      <td>2.0L</td>\n",
              "      <td>2014 (14 reg)</td>\n",
              "      <td>BMW_2 Series.txt</td>\n",
              "    </tr>\n",
              "    <tr>\n",
              "      <th>7228</th>\n",
              "      <td>BMW 2 Series</td>\n",
              "      <td>https://www.autotrader.co.uk</td>\n",
              "      <td>£9,005</td>\n",
              "      <td>87000.0</td>\n",
              "      <td>NaN</td>\n",
              "      <td>Manual</td>\n",
              "      <td>Diesel</td>\n",
              "      <td>3.0</td>\n",
              "      <td>Coupe</td>\n",
              "      <td>ULEZ</td>\n",
              "      <td>2.0L</td>\n",
              "      <td>2014 (14 reg)</td>\n",
              "      <td>BMW_2 Series.txt</td>\n",
              "    </tr>\n",
              "  </tbody>\n",
              "</table>\n",
              "</div>\n",
              "      <button class=\"colab-df-convert\" onclick=\"convertToInteractive('df-79e09964-b072-4c4c-b1b9-aec69b6e9c71')\"\n",
              "              title=\"Convert this dataframe to an interactive table.\"\n",
              "              style=\"display:none;\">\n",
              "        \n",
              "  <svg xmlns=\"http://www.w3.org/2000/svg\" height=\"24px\"viewBox=\"0 0 24 24\"\n",
              "       width=\"24px\">\n",
              "    <path d=\"M0 0h24v24H0V0z\" fill=\"none\"/>\n",
              "    <path d=\"M18.56 5.44l.94 2.06.94-2.06 2.06-.94-2.06-.94-.94-2.06-.94 2.06-2.06.94zm-11 1L8.5 8.5l.94-2.06 2.06-.94-2.06-.94L8.5 2.5l-.94 2.06-2.06.94zm10 10l.94 2.06.94-2.06 2.06-.94-2.06-.94-.94-2.06-.94 2.06-2.06.94z\"/><path d=\"M17.41 7.96l-1.37-1.37c-.4-.4-.92-.59-1.43-.59-.52 0-1.04.2-1.43.59L10.3 9.45l-7.72 7.72c-.78.78-.78 2.05 0 2.83L4 21.41c.39.39.9.59 1.41.59.51 0 1.02-.2 1.41-.59l7.78-7.78 2.81-2.81c.8-.78.8-2.07 0-2.86zM5.41 20L4 18.59l7.72-7.72 1.47 1.35L5.41 20z\"/>\n",
              "  </svg>\n",
              "      </button>\n",
              "      \n",
              "  <style>\n",
              "    .colab-df-container {\n",
              "      display:flex;\n",
              "      flex-wrap:wrap;\n",
              "      gap: 12px;\n",
              "    }\n",
              "\n",
              "    .colab-df-convert {\n",
              "      background-color: #E8F0FE;\n",
              "      border: none;\n",
              "      border-radius: 50%;\n",
              "      cursor: pointer;\n",
              "      display: none;\n",
              "      fill: #1967D2;\n",
              "      height: 32px;\n",
              "      padding: 0 0 0 0;\n",
              "      width: 32px;\n",
              "    }\n",
              "\n",
              "    .colab-df-convert:hover {\n",
              "      background-color: #E2EBFA;\n",
              "      box-shadow: 0px 1px 2px rgba(60, 64, 67, 0.3), 0px 1px 3px 1px rgba(60, 64, 67, 0.15);\n",
              "      fill: #174EA6;\n",
              "    }\n",
              "\n",
              "    [theme=dark] .colab-df-convert {\n",
              "      background-color: #3B4455;\n",
              "      fill: #D2E3FC;\n",
              "    }\n",
              "\n",
              "    [theme=dark] .colab-df-convert:hover {\n",
              "      background-color: #434B5C;\n",
              "      box-shadow: 0px 1px 3px 1px rgba(0, 0, 0, 0.15);\n",
              "      filter: drop-shadow(0px 1px 2px rgba(0, 0, 0, 0.3));\n",
              "      fill: #FFFFFF;\n",
              "    }\n",
              "  </style>\n",
              "\n",
              "      <script>\n",
              "        const buttonEl =\n",
              "          document.querySelector('#df-79e09964-b072-4c4c-b1b9-aec69b6e9c71 button.colab-df-convert');\n",
              "        buttonEl.style.display =\n",
              "          google.colab.kernel.accessAllowed ? 'block' : 'none';\n",
              "\n",
              "        async function convertToInteractive(key) {\n",
              "          const element = document.querySelector('#df-79e09964-b072-4c4c-b1b9-aec69b6e9c71');\n",
              "          const dataTable =\n",
              "            await google.colab.kernel.invokeFunction('convertToInteractive',\n",
              "                                                     [key], {});\n",
              "          if (!dataTable) return;\n",
              "\n",
              "          const docLinkHtml = 'Like what you see? Visit the ' +\n",
              "            '<a target=\"_blank\" href=https://colab.research.google.com/notebooks/data_table.ipynb>data table notebook</a>'\n",
              "            + ' to learn more about interactive tables.';\n",
              "          element.innerHTML = '';\n",
              "          dataTable['output_type'] = 'display_data';\n",
              "          await google.colab.output.renderOutput(dataTable, element);\n",
              "          const docLink = document.createElement('div');\n",
              "          docLink.innerHTML = docLinkHtml;\n",
              "          element.appendChild(docLink);\n",
              "        }\n",
              "      </script>\n",
              "    </div>\n",
              "  </div>\n",
              "  "
            ]
          },
          "metadata": {},
          "execution_count": 21
        }
      ]
    },
    {
      "cell_type": "code",
      "source": [
        "# Creating another column that states the car model using the data in the 'filename' column\n",
        "\n",
        "cars['car model'] = cars['filename'].str.replace('.txt', '', regex=False)"
      ],
      "metadata": {
        "id": "zC92MxmyidW2"
      },
      "execution_count": 22,
      "outputs": []
    },
    {
      "cell_type": "code",
      "source": [
        "# checking this new column has been successfully made\n",
        "\n",
        "cars[['car model']].head()"
      ],
      "metadata": {
        "colab": {
          "base_uri": "https://localhost:8080/",
          "height": 206
        },
        "id": "kl_LnvErihj-",
        "outputId": "906d97a7-7c6f-4f81-cf9a-9c70a4b567d5"
      },
      "execution_count": 23,
      "outputs": [
        {
          "output_type": "execute_result",
          "data": {
            "text/plain": [
              "      car model\n",
              "0  BMW_5 Series\n",
              "1  BMW_5 Series\n",
              "2  BMW_5 Series\n",
              "3  BMW_5 Series\n",
              "4  BMW_5 Series"
            ],
            "text/html": [
              "\n",
              "  <div id=\"df-ffeae219-e4b6-4125-aaca-7fd65964a340\">\n",
              "    <div class=\"colab-df-container\">\n",
              "      <div>\n",
              "<style scoped>\n",
              "    .dataframe tbody tr th:only-of-type {\n",
              "        vertical-align: middle;\n",
              "    }\n",
              "\n",
              "    .dataframe tbody tr th {\n",
              "        vertical-align: top;\n",
              "    }\n",
              "\n",
              "    .dataframe thead th {\n",
              "        text-align: right;\n",
              "    }\n",
              "</style>\n",
              "<table border=\"1\" class=\"dataframe\">\n",
              "  <thead>\n",
              "    <tr style=\"text-align: right;\">\n",
              "      <th></th>\n",
              "      <th>car model</th>\n",
              "    </tr>\n",
              "  </thead>\n",
              "  <tbody>\n",
              "    <tr>\n",
              "      <th>0</th>\n",
              "      <td>BMW_5 Series</td>\n",
              "    </tr>\n",
              "    <tr>\n",
              "      <th>1</th>\n",
              "      <td>BMW_5 Series</td>\n",
              "    </tr>\n",
              "    <tr>\n",
              "      <th>2</th>\n",
              "      <td>BMW_5 Series</td>\n",
              "    </tr>\n",
              "    <tr>\n",
              "      <th>3</th>\n",
              "      <td>BMW_5 Series</td>\n",
              "    </tr>\n",
              "    <tr>\n",
              "      <th>4</th>\n",
              "      <td>BMW_5 Series</td>\n",
              "    </tr>\n",
              "  </tbody>\n",
              "</table>\n",
              "</div>\n",
              "      <button class=\"colab-df-convert\" onclick=\"convertToInteractive('df-ffeae219-e4b6-4125-aaca-7fd65964a340')\"\n",
              "              title=\"Convert this dataframe to an interactive table.\"\n",
              "              style=\"display:none;\">\n",
              "        \n",
              "  <svg xmlns=\"http://www.w3.org/2000/svg\" height=\"24px\"viewBox=\"0 0 24 24\"\n",
              "       width=\"24px\">\n",
              "    <path d=\"M0 0h24v24H0V0z\" fill=\"none\"/>\n",
              "    <path d=\"M18.56 5.44l.94 2.06.94-2.06 2.06-.94-2.06-.94-.94-2.06-.94 2.06-2.06.94zm-11 1L8.5 8.5l.94-2.06 2.06-.94-2.06-.94L8.5 2.5l-.94 2.06-2.06.94zm10 10l.94 2.06.94-2.06 2.06-.94-2.06-.94-.94-2.06-.94 2.06-2.06.94z\"/><path d=\"M17.41 7.96l-1.37-1.37c-.4-.4-.92-.59-1.43-.59-.52 0-1.04.2-1.43.59L10.3 9.45l-7.72 7.72c-.78.78-.78 2.05 0 2.83L4 21.41c.39.39.9.59 1.41.59.51 0 1.02-.2 1.41-.59l7.78-7.78 2.81-2.81c.8-.78.8-2.07 0-2.86zM5.41 20L4 18.59l7.72-7.72 1.47 1.35L5.41 20z\"/>\n",
              "  </svg>\n",
              "      </button>\n",
              "      \n",
              "  <style>\n",
              "    .colab-df-container {\n",
              "      display:flex;\n",
              "      flex-wrap:wrap;\n",
              "      gap: 12px;\n",
              "    }\n",
              "\n",
              "    .colab-df-convert {\n",
              "      background-color: #E8F0FE;\n",
              "      border: none;\n",
              "      border-radius: 50%;\n",
              "      cursor: pointer;\n",
              "      display: none;\n",
              "      fill: #1967D2;\n",
              "      height: 32px;\n",
              "      padding: 0 0 0 0;\n",
              "      width: 32px;\n",
              "    }\n",
              "\n",
              "    .colab-df-convert:hover {\n",
              "      background-color: #E2EBFA;\n",
              "      box-shadow: 0px 1px 2px rgba(60, 64, 67, 0.3), 0px 1px 3px 1px rgba(60, 64, 67, 0.15);\n",
              "      fill: #174EA6;\n",
              "    }\n",
              "\n",
              "    [theme=dark] .colab-df-convert {\n",
              "      background-color: #3B4455;\n",
              "      fill: #D2E3FC;\n",
              "    }\n",
              "\n",
              "    [theme=dark] .colab-df-convert:hover {\n",
              "      background-color: #434B5C;\n",
              "      box-shadow: 0px 1px 3px 1px rgba(0, 0, 0, 0.15);\n",
              "      filter: drop-shadow(0px 1px 2px rgba(0, 0, 0, 0.3));\n",
              "      fill: #FFFFFF;\n",
              "    }\n",
              "  </style>\n",
              "\n",
              "      <script>\n",
              "        const buttonEl =\n",
              "          document.querySelector('#df-ffeae219-e4b6-4125-aaca-7fd65964a340 button.colab-df-convert');\n",
              "        buttonEl.style.display =\n",
              "          google.colab.kernel.accessAllowed ? 'block' : 'none';\n",
              "\n",
              "        async function convertToInteractive(key) {\n",
              "          const element = document.querySelector('#df-ffeae219-e4b6-4125-aaca-7fd65964a340');\n",
              "          const dataTable =\n",
              "            await google.colab.kernel.invokeFunction('convertToInteractive',\n",
              "                                                     [key], {});\n",
              "          if (!dataTable) return;\n",
              "\n",
              "          const docLinkHtml = 'Like what you see? Visit the ' +\n",
              "            '<a target=\"_blank\" href=https://colab.research.google.com/notebooks/data_table.ipynb>data table notebook</a>'\n",
              "            + ' to learn more about interactive tables.';\n",
              "          element.innerHTML = '';\n",
              "          dataTable['output_type'] = 'display_data';\n",
              "          await google.colab.output.renderOutput(dataTable, element);\n",
              "          const docLink = document.createElement('div');\n",
              "          docLink.innerHTML = docLinkHtml;\n",
              "          element.appendChild(docLink);\n",
              "        }\n",
              "      </script>\n",
              "    </div>\n",
              "  </div>\n",
              "  "
            ]
          },
          "metadata": {},
          "execution_count": 23
        }
      ]
    },
    {
      "cell_type": "code",
      "source": [
        "# checking for a specific car model in the newly created 'car model' column\n",
        "\n",
        "cars[cars['car model'] == 'BMW_5 Series'].head()"
      ],
      "metadata": {
        "colab": {
          "base_uri": "https://localhost:8080/",
          "height": 461
        },
        "id": "H5oHsPUli0Q6",
        "outputId": "b3ecfd2c-8457-4ecb-f3d9-a2c8df968c7a"
      },
      "execution_count": 24,
      "outputs": [
        {
          "output_type": "execute_result",
          "data": {
            "text/plain": [
              "           name                                               link   price  \\\n",
              "0  BMW 5 Series                       https://www.autotrader.co.uk  £2,760   \n",
              "1  BMW 5 Series  https://www.autotrader.co.uk/dealers/bedfordsh...  £4,480   \n",
              "2  BMW 5 Series  https://www.autotrader.co.uk/dealers/surrey/wo...  £2,495   \n",
              "3  BMW 5 Series  https://www.autotrader.co.uk/dealers/northampt...  £2,995   \n",
              "4  BMW 5 Series  https://www.autotrader.co.uk/dealers/leicester...  £1,990   \n",
              "\n",
              "    mileage  BHP transmission    fuel  owners    body ULEZ engine  \\\n",
              "0  183000.0  NaN       Manual  Diesel     3.0  Saloon  NaN   3.0L   \n",
              "1  129000.0  NaN    Automatic  Diesel     NaN  Saloon  NaN   3.0L   \n",
              "2   34000.0  NaN    Automatic  Petrol     2.0  Saloon  NaN   3.0L   \n",
              "3  133000.0  NaN    Automatic  Diesel     3.0  Saloon  NaN   2.5L   \n",
              "4  186000.0  NaN       Manual  Diesel     NaN  Estate  NaN   2.0L   \n",
              "\n",
              "            year          filename     car model  \n",
              "0  2005 (05 reg)  BMW_5 Series.txt  BMW_5 Series  \n",
              "1  2005 (05 reg)  BMW_5 Series.txt  BMW_5 Series  \n",
              "2  2005 (05 reg)  BMW_5 Series.txt  BMW_5 Series  \n",
              "3  2005 (55 reg)  BMW_5 Series.txt  BMW_5 Series  \n",
              "4  2005 (55 reg)  BMW_5 Series.txt  BMW_5 Series  "
            ],
            "text/html": [
              "\n",
              "  <div id=\"df-862ffb81-606d-4cec-ba28-89b786eabc8f\">\n",
              "    <div class=\"colab-df-container\">\n",
              "      <div>\n",
              "<style scoped>\n",
              "    .dataframe tbody tr th:only-of-type {\n",
              "        vertical-align: middle;\n",
              "    }\n",
              "\n",
              "    .dataframe tbody tr th {\n",
              "        vertical-align: top;\n",
              "    }\n",
              "\n",
              "    .dataframe thead th {\n",
              "        text-align: right;\n",
              "    }\n",
              "</style>\n",
              "<table border=\"1\" class=\"dataframe\">\n",
              "  <thead>\n",
              "    <tr style=\"text-align: right;\">\n",
              "      <th></th>\n",
              "      <th>name</th>\n",
              "      <th>link</th>\n",
              "      <th>price</th>\n",
              "      <th>mileage</th>\n",
              "      <th>BHP</th>\n",
              "      <th>transmission</th>\n",
              "      <th>fuel</th>\n",
              "      <th>owners</th>\n",
              "      <th>body</th>\n",
              "      <th>ULEZ</th>\n",
              "      <th>engine</th>\n",
              "      <th>year</th>\n",
              "      <th>filename</th>\n",
              "      <th>car model</th>\n",
              "    </tr>\n",
              "  </thead>\n",
              "  <tbody>\n",
              "    <tr>\n",
              "      <th>0</th>\n",
              "      <td>BMW 5 Series</td>\n",
              "      <td>https://www.autotrader.co.uk</td>\n",
              "      <td>£2,760</td>\n",
              "      <td>183000.0</td>\n",
              "      <td>NaN</td>\n",
              "      <td>Manual</td>\n",
              "      <td>Diesel</td>\n",
              "      <td>3.0</td>\n",
              "      <td>Saloon</td>\n",
              "      <td>NaN</td>\n",
              "      <td>3.0L</td>\n",
              "      <td>2005 (05 reg)</td>\n",
              "      <td>BMW_5 Series.txt</td>\n",
              "      <td>BMW_5 Series</td>\n",
              "    </tr>\n",
              "    <tr>\n",
              "      <th>1</th>\n",
              "      <td>BMW 5 Series</td>\n",
              "      <td>https://www.autotrader.co.uk/dealers/bedfordsh...</td>\n",
              "      <td>£4,480</td>\n",
              "      <td>129000.0</td>\n",
              "      <td>NaN</td>\n",
              "      <td>Automatic</td>\n",
              "      <td>Diesel</td>\n",
              "      <td>NaN</td>\n",
              "      <td>Saloon</td>\n",
              "      <td>NaN</td>\n",
              "      <td>3.0L</td>\n",
              "      <td>2005 (05 reg)</td>\n",
              "      <td>BMW_5 Series.txt</td>\n",
              "      <td>BMW_5 Series</td>\n",
              "    </tr>\n",
              "    <tr>\n",
              "      <th>2</th>\n",
              "      <td>BMW 5 Series</td>\n",
              "      <td>https://www.autotrader.co.uk/dealers/surrey/wo...</td>\n",
              "      <td>£2,495</td>\n",
              "      <td>34000.0</td>\n",
              "      <td>NaN</td>\n",
              "      <td>Automatic</td>\n",
              "      <td>Petrol</td>\n",
              "      <td>2.0</td>\n",
              "      <td>Saloon</td>\n",
              "      <td>NaN</td>\n",
              "      <td>3.0L</td>\n",
              "      <td>2005 (05 reg)</td>\n",
              "      <td>BMW_5 Series.txt</td>\n",
              "      <td>BMW_5 Series</td>\n",
              "    </tr>\n",
              "    <tr>\n",
              "      <th>3</th>\n",
              "      <td>BMW 5 Series</td>\n",
              "      <td>https://www.autotrader.co.uk/dealers/northampt...</td>\n",
              "      <td>£2,995</td>\n",
              "      <td>133000.0</td>\n",
              "      <td>NaN</td>\n",
              "      <td>Automatic</td>\n",
              "      <td>Diesel</td>\n",
              "      <td>3.0</td>\n",
              "      <td>Saloon</td>\n",
              "      <td>NaN</td>\n",
              "      <td>2.5L</td>\n",
              "      <td>2005 (55 reg)</td>\n",
              "      <td>BMW_5 Series.txt</td>\n",
              "      <td>BMW_5 Series</td>\n",
              "    </tr>\n",
              "    <tr>\n",
              "      <th>4</th>\n",
              "      <td>BMW 5 Series</td>\n",
              "      <td>https://www.autotrader.co.uk/dealers/leicester...</td>\n",
              "      <td>£1,990</td>\n",
              "      <td>186000.0</td>\n",
              "      <td>NaN</td>\n",
              "      <td>Manual</td>\n",
              "      <td>Diesel</td>\n",
              "      <td>NaN</td>\n",
              "      <td>Estate</td>\n",
              "      <td>NaN</td>\n",
              "      <td>2.0L</td>\n",
              "      <td>2005 (55 reg)</td>\n",
              "      <td>BMW_5 Series.txt</td>\n",
              "      <td>BMW_5 Series</td>\n",
              "    </tr>\n",
              "  </tbody>\n",
              "</table>\n",
              "</div>\n",
              "      <button class=\"colab-df-convert\" onclick=\"convertToInteractive('df-862ffb81-606d-4cec-ba28-89b786eabc8f')\"\n",
              "              title=\"Convert this dataframe to an interactive table.\"\n",
              "              style=\"display:none;\">\n",
              "        \n",
              "  <svg xmlns=\"http://www.w3.org/2000/svg\" height=\"24px\"viewBox=\"0 0 24 24\"\n",
              "       width=\"24px\">\n",
              "    <path d=\"M0 0h24v24H0V0z\" fill=\"none\"/>\n",
              "    <path d=\"M18.56 5.44l.94 2.06.94-2.06 2.06-.94-2.06-.94-.94-2.06-.94 2.06-2.06.94zm-11 1L8.5 8.5l.94-2.06 2.06-.94-2.06-.94L8.5 2.5l-.94 2.06-2.06.94zm10 10l.94 2.06.94-2.06 2.06-.94-2.06-.94-.94-2.06-.94 2.06-2.06.94z\"/><path d=\"M17.41 7.96l-1.37-1.37c-.4-.4-.92-.59-1.43-.59-.52 0-1.04.2-1.43.59L10.3 9.45l-7.72 7.72c-.78.78-.78 2.05 0 2.83L4 21.41c.39.39.9.59 1.41.59.51 0 1.02-.2 1.41-.59l7.78-7.78 2.81-2.81c.8-.78.8-2.07 0-2.86zM5.41 20L4 18.59l7.72-7.72 1.47 1.35L5.41 20z\"/>\n",
              "  </svg>\n",
              "      </button>\n",
              "      \n",
              "  <style>\n",
              "    .colab-df-container {\n",
              "      display:flex;\n",
              "      flex-wrap:wrap;\n",
              "      gap: 12px;\n",
              "    }\n",
              "\n",
              "    .colab-df-convert {\n",
              "      background-color: #E8F0FE;\n",
              "      border: none;\n",
              "      border-radius: 50%;\n",
              "      cursor: pointer;\n",
              "      display: none;\n",
              "      fill: #1967D2;\n",
              "      height: 32px;\n",
              "      padding: 0 0 0 0;\n",
              "      width: 32px;\n",
              "    }\n",
              "\n",
              "    .colab-df-convert:hover {\n",
              "      background-color: #E2EBFA;\n",
              "      box-shadow: 0px 1px 2px rgba(60, 64, 67, 0.3), 0px 1px 3px 1px rgba(60, 64, 67, 0.15);\n",
              "      fill: #174EA6;\n",
              "    }\n",
              "\n",
              "    [theme=dark] .colab-df-convert {\n",
              "      background-color: #3B4455;\n",
              "      fill: #D2E3FC;\n",
              "    }\n",
              "\n",
              "    [theme=dark] .colab-df-convert:hover {\n",
              "      background-color: #434B5C;\n",
              "      box-shadow: 0px 1px 3px 1px rgba(0, 0, 0, 0.15);\n",
              "      filter: drop-shadow(0px 1px 2px rgba(0, 0, 0, 0.3));\n",
              "      fill: #FFFFFF;\n",
              "    }\n",
              "  </style>\n",
              "\n",
              "      <script>\n",
              "        const buttonEl =\n",
              "          document.querySelector('#df-862ffb81-606d-4cec-ba28-89b786eabc8f button.colab-df-convert');\n",
              "        buttonEl.style.display =\n",
              "          google.colab.kernel.accessAllowed ? 'block' : 'none';\n",
              "\n",
              "        async function convertToInteractive(key) {\n",
              "          const element = document.querySelector('#df-862ffb81-606d-4cec-ba28-89b786eabc8f');\n",
              "          const dataTable =\n",
              "            await google.colab.kernel.invokeFunction('convertToInteractive',\n",
              "                                                     [key], {});\n",
              "          if (!dataTable) return;\n",
              "\n",
              "          const docLinkHtml = 'Like what you see? Visit the ' +\n",
              "            '<a target=\"_blank\" href=https://colab.research.google.com/notebooks/data_table.ipynb>data table notebook</a>'\n",
              "            + ' to learn more about interactive tables.';\n",
              "          element.innerHTML = '';\n",
              "          dataTable['output_type'] = 'display_data';\n",
              "          await google.colab.output.renderOutput(dataTable, element);\n",
              "          const docLink = document.createElement('div');\n",
              "          docLink.innerHTML = docLinkHtml;\n",
              "          element.appendChild(docLink);\n",
              "        }\n",
              "      </script>\n",
              "    </div>\n",
              "  </div>\n",
              "  "
            ]
          },
          "metadata": {},
          "execution_count": 24
        }
      ]
    },
    {
      "cell_type": "code",
      "source": [
        "# number of columns and rows\n",
        "\n",
        "cars.shape"
      ],
      "metadata": {
        "colab": {
          "base_uri": "https://localhost:8080/"
        },
        "id": "2lKTbM_fi2Kz",
        "outputId": "f60f2b2d-666f-46bf-ce45-56a7e4ee0807"
      },
      "execution_count": 25,
      "outputs": [
        {
          "output_type": "execute_result",
          "data": {
            "text/plain": [
              "(8547, 14)"
            ]
          },
          "metadata": {},
          "execution_count": 25
        }
      ]
    },
    {
      "cell_type": "markdown",
      "source": [
        "**Clean and check**"
      ],
      "metadata": {
        "id": "oLiIfF6bi4Yi"
      }
    },
    {
      "cell_type": "code",
      "source": [
        "#Duplicates\n",
        "\n",
        "#Number of rows before dropping duplicates\n",
        "duplicates = cars.shape[0]\n",
        "\n",
        "#Dropping duplicates (if any)\n",
        "cars.drop_duplicates(inplace=True)\n",
        "\n",
        "#Checking whether any duplicates were dropped\n",
        "if cars.shape[0]==duplicates:\n",
        "    print(\"No duplicates\")\n",
        "else:\n",
        "    print(f\"The number of duplicates is {duplicates-cars.shape[0]}\")"
      ],
      "metadata": {
        "colab": {
          "base_uri": "https://localhost:8080/"
        },
        "id": "_YHCRgowi34t",
        "outputId": "3889a603-fee0-4d0e-fd3c-164f1192b538"
      },
      "execution_count": 26,
      "outputs": [
        {
          "output_type": "stream",
          "name": "stdout",
          "text": [
            "The number of duplicates is 2\n"
          ]
        }
      ]
    },
    {
      "cell_type": "code",
      "source": [
        "# Dropping unnecessary columns\n",
        "\n",
        "cars.drop(columns=['link', 'name', 'filename'], inplace=True)"
      ],
      "metadata": {
        "id": "4rtgSJiAi94H"
      },
      "execution_count": 27,
      "outputs": []
    },
    {
      "cell_type": "code",
      "source": [
        "# Checking that 'link', 'name' and 'filename' were all successfully dropped\n",
        "\n",
        "try:\n",
        "    # if the columns have cannot be dropped (because they have already been dropped), the function proceeds to the expect statement\n",
        "    cars.drop(columns=['link', 'name', 'filename'], inplace=False)\n",
        "except:\n",
        "    print(\"already dropped\")"
      ],
      "metadata": {
        "colab": {
          "base_uri": "https://localhost:8080/"
        },
        "id": "_uVXfvHzjNTj",
        "outputId": "d6db4e3b-c9db-4cff-c257-81941a8dacb0"
      },
      "execution_count": 28,
      "outputs": [
        {
          "output_type": "stream",
          "name": "stdout",
          "text": [
            "already dropped\n"
          ]
        }
      ]
    },
    {
      "cell_type": "code",
      "source": [
        "# looking at the summary statistics of the numerical data\n",
        "\n",
        "cars.describe()"
      ],
      "metadata": {
        "colab": {
          "base_uri": "https://localhost:8080/",
          "height": 300
        },
        "id": "zOsk00-EjPdL",
        "outputId": "3ccc4c86-d9a0-41c6-f33c-0151fb85f2a6"
      },
      "execution_count": 29,
      "outputs": [
        {
          "output_type": "execute_result",
          "data": {
            "text/plain": [
              "             mileage          BHP       owners\n",
              "count    8542.000000  3529.000000  4144.000000\n",
              "mean    62389.014282   198.741286     2.933398\n",
              "std     38989.327336    51.399266     1.240909\n",
              "min        25.000000   114.000000     2.000000\n",
              "25%     30113.250000   181.000000     2.000000\n",
              "50%     55998.000000   190.000000     3.000000\n",
              "75%     89434.000000   192.000000     3.000000\n",
              "max    225000.000000   450.000000    11.000000"
            ],
            "text/html": [
              "\n",
              "  <div id=\"df-d50eaeb7-4c60-40a5-9c30-c93f9bab2c8f\">\n",
              "    <div class=\"colab-df-container\">\n",
              "      <div>\n",
              "<style scoped>\n",
              "    .dataframe tbody tr th:only-of-type {\n",
              "        vertical-align: middle;\n",
              "    }\n",
              "\n",
              "    .dataframe tbody tr th {\n",
              "        vertical-align: top;\n",
              "    }\n",
              "\n",
              "    .dataframe thead th {\n",
              "        text-align: right;\n",
              "    }\n",
              "</style>\n",
              "<table border=\"1\" class=\"dataframe\">\n",
              "  <thead>\n",
              "    <tr style=\"text-align: right;\">\n",
              "      <th></th>\n",
              "      <th>mileage</th>\n",
              "      <th>BHP</th>\n",
              "      <th>owners</th>\n",
              "    </tr>\n",
              "  </thead>\n",
              "  <tbody>\n",
              "    <tr>\n",
              "      <th>count</th>\n",
              "      <td>8542.000000</td>\n",
              "      <td>3529.000000</td>\n",
              "      <td>4144.000000</td>\n",
              "    </tr>\n",
              "    <tr>\n",
              "      <th>mean</th>\n",
              "      <td>62389.014282</td>\n",
              "      <td>198.741286</td>\n",
              "      <td>2.933398</td>\n",
              "    </tr>\n",
              "    <tr>\n",
              "      <th>std</th>\n",
              "      <td>38989.327336</td>\n",
              "      <td>51.399266</td>\n",
              "      <td>1.240909</td>\n",
              "    </tr>\n",
              "    <tr>\n",
              "      <th>min</th>\n",
              "      <td>25.000000</td>\n",
              "      <td>114.000000</td>\n",
              "      <td>2.000000</td>\n",
              "    </tr>\n",
              "    <tr>\n",
              "      <th>25%</th>\n",
              "      <td>30113.250000</td>\n",
              "      <td>181.000000</td>\n",
              "      <td>2.000000</td>\n",
              "    </tr>\n",
              "    <tr>\n",
              "      <th>50%</th>\n",
              "      <td>55998.000000</td>\n",
              "      <td>190.000000</td>\n",
              "      <td>3.000000</td>\n",
              "    </tr>\n",
              "    <tr>\n",
              "      <th>75%</th>\n",
              "      <td>89434.000000</td>\n",
              "      <td>192.000000</td>\n",
              "      <td>3.000000</td>\n",
              "    </tr>\n",
              "    <tr>\n",
              "      <th>max</th>\n",
              "      <td>225000.000000</td>\n",
              "      <td>450.000000</td>\n",
              "      <td>11.000000</td>\n",
              "    </tr>\n",
              "  </tbody>\n",
              "</table>\n",
              "</div>\n",
              "      <button class=\"colab-df-convert\" onclick=\"convertToInteractive('df-d50eaeb7-4c60-40a5-9c30-c93f9bab2c8f')\"\n",
              "              title=\"Convert this dataframe to an interactive table.\"\n",
              "              style=\"display:none;\">\n",
              "        \n",
              "  <svg xmlns=\"http://www.w3.org/2000/svg\" height=\"24px\"viewBox=\"0 0 24 24\"\n",
              "       width=\"24px\">\n",
              "    <path d=\"M0 0h24v24H0V0z\" fill=\"none\"/>\n",
              "    <path d=\"M18.56 5.44l.94 2.06.94-2.06 2.06-.94-2.06-.94-.94-2.06-.94 2.06-2.06.94zm-11 1L8.5 8.5l.94-2.06 2.06-.94-2.06-.94L8.5 2.5l-.94 2.06-2.06.94zm10 10l.94 2.06.94-2.06 2.06-.94-2.06-.94-.94-2.06-.94 2.06-2.06.94z\"/><path d=\"M17.41 7.96l-1.37-1.37c-.4-.4-.92-.59-1.43-.59-.52 0-1.04.2-1.43.59L10.3 9.45l-7.72 7.72c-.78.78-.78 2.05 0 2.83L4 21.41c.39.39.9.59 1.41.59.51 0 1.02-.2 1.41-.59l7.78-7.78 2.81-2.81c.8-.78.8-2.07 0-2.86zM5.41 20L4 18.59l7.72-7.72 1.47 1.35L5.41 20z\"/>\n",
              "  </svg>\n",
              "      </button>\n",
              "      \n",
              "  <style>\n",
              "    .colab-df-container {\n",
              "      display:flex;\n",
              "      flex-wrap:wrap;\n",
              "      gap: 12px;\n",
              "    }\n",
              "\n",
              "    .colab-df-convert {\n",
              "      background-color: #E8F0FE;\n",
              "      border: none;\n",
              "      border-radius: 50%;\n",
              "      cursor: pointer;\n",
              "      display: none;\n",
              "      fill: #1967D2;\n",
              "      height: 32px;\n",
              "      padding: 0 0 0 0;\n",
              "      width: 32px;\n",
              "    }\n",
              "\n",
              "    .colab-df-convert:hover {\n",
              "      background-color: #E2EBFA;\n",
              "      box-shadow: 0px 1px 2px rgba(60, 64, 67, 0.3), 0px 1px 3px 1px rgba(60, 64, 67, 0.15);\n",
              "      fill: #174EA6;\n",
              "    }\n",
              "\n",
              "    [theme=dark] .colab-df-convert {\n",
              "      background-color: #3B4455;\n",
              "      fill: #D2E3FC;\n",
              "    }\n",
              "\n",
              "    [theme=dark] .colab-df-convert:hover {\n",
              "      background-color: #434B5C;\n",
              "      box-shadow: 0px 1px 3px 1px rgba(0, 0, 0, 0.15);\n",
              "      filter: drop-shadow(0px 1px 2px rgba(0, 0, 0, 0.3));\n",
              "      fill: #FFFFFF;\n",
              "    }\n",
              "  </style>\n",
              "\n",
              "      <script>\n",
              "        const buttonEl =\n",
              "          document.querySelector('#df-d50eaeb7-4c60-40a5-9c30-c93f9bab2c8f button.colab-df-convert');\n",
              "        buttonEl.style.display =\n",
              "          google.colab.kernel.accessAllowed ? 'block' : 'none';\n",
              "\n",
              "        async function convertToInteractive(key) {\n",
              "          const element = document.querySelector('#df-d50eaeb7-4c60-40a5-9c30-c93f9bab2c8f');\n",
              "          const dataTable =\n",
              "            await google.colab.kernel.invokeFunction('convertToInteractive',\n",
              "                                                     [key], {});\n",
              "          if (!dataTable) return;\n",
              "\n",
              "          const docLinkHtml = 'Like what you see? Visit the ' +\n",
              "            '<a target=\"_blank\" href=https://colab.research.google.com/notebooks/data_table.ipynb>data table notebook</a>'\n",
              "            + ' to learn more about interactive tables.';\n",
              "          element.innerHTML = '';\n",
              "          dataTable['output_type'] = 'display_data';\n",
              "          await google.colab.output.renderOutput(dataTable, element);\n",
              "          const docLink = document.createElement('div');\n",
              "          docLink.innerHTML = docLinkHtml;\n",
              "          element.appendChild(docLink);\n",
              "        }\n",
              "      </script>\n",
              "    </div>\n",
              "  </div>\n",
              "  "
            ]
          },
          "metadata": {},
          "execution_count": 29
        }
      ]
    },
    {
      "cell_type": "code",
      "source": [
        "# looking at the summary statistics of all data\n",
        "\n",
        "cars.describe(include=\"all\")"
      ],
      "metadata": {
        "colab": {
          "base_uri": "https://localhost:8080/",
          "height": 394
        },
        "id": "Rpv6s0ZwjRfn",
        "outputId": "d3c448b9-3436-4e98-c166-9eb6b10ee735"
      },
      "execution_count": 30,
      "outputs": [
        {
          "output_type": "execute_result",
          "data": {
            "text/plain": [
              "          price        mileage          BHP transmission    fuel       owners  \\\n",
              "count      8545    8542.000000  3529.000000         8543    8543  4144.000000   \n",
              "unique     2767            NaN          NaN            2       5          NaN   \n",
              "top     £13,995            NaN          NaN    Automatic  Diesel          NaN   \n",
              "freq         54            NaN          NaN         6073    4595          NaN   \n",
              "mean        NaN   62389.014282   198.741286          NaN     NaN     2.933398   \n",
              "std         NaN   38989.327336    51.399266          NaN     NaN     1.240909   \n",
              "min         NaN      25.000000   114.000000          NaN     NaN     2.000000   \n",
              "25%         NaN   30113.250000   181.000000          NaN     NaN     2.000000   \n",
              "50%         NaN   55998.000000   190.000000          NaN     NaN     3.000000   \n",
              "75%         NaN   89434.000000   192.000000          NaN     NaN     3.000000   \n",
              "max         NaN  225000.000000   450.000000          NaN     NaN    11.000000   \n",
              "\n",
              "          body  ULEZ engine           year     car model  \n",
              "count     8545  6465   8540           8341          8545  \n",
              "unique       6     1      9             58             4  \n",
              "top     Saloon  ULEZ   2.0L  2018 (18 reg)  BMW_3 Series  \n",
              "freq      4686  6465   5763            512          7146  \n",
              "mean       NaN   NaN    NaN            NaN           NaN  \n",
              "std        NaN   NaN    NaN            NaN           NaN  \n",
              "min        NaN   NaN    NaN            NaN           NaN  \n",
              "25%        NaN   NaN    NaN            NaN           NaN  \n",
              "50%        NaN   NaN    NaN            NaN           NaN  \n",
              "75%        NaN   NaN    NaN            NaN           NaN  \n",
              "max        NaN   NaN    NaN            NaN           NaN  "
            ],
            "text/html": [
              "\n",
              "  <div id=\"df-564a9db9-2ce9-49b6-8092-fd0b501f0a4e\">\n",
              "    <div class=\"colab-df-container\">\n",
              "      <div>\n",
              "<style scoped>\n",
              "    .dataframe tbody tr th:only-of-type {\n",
              "        vertical-align: middle;\n",
              "    }\n",
              "\n",
              "    .dataframe tbody tr th {\n",
              "        vertical-align: top;\n",
              "    }\n",
              "\n",
              "    .dataframe thead th {\n",
              "        text-align: right;\n",
              "    }\n",
              "</style>\n",
              "<table border=\"1\" class=\"dataframe\">\n",
              "  <thead>\n",
              "    <tr style=\"text-align: right;\">\n",
              "      <th></th>\n",
              "      <th>price</th>\n",
              "      <th>mileage</th>\n",
              "      <th>BHP</th>\n",
              "      <th>transmission</th>\n",
              "      <th>fuel</th>\n",
              "      <th>owners</th>\n",
              "      <th>body</th>\n",
              "      <th>ULEZ</th>\n",
              "      <th>engine</th>\n",
              "      <th>year</th>\n",
              "      <th>car model</th>\n",
              "    </tr>\n",
              "  </thead>\n",
              "  <tbody>\n",
              "    <tr>\n",
              "      <th>count</th>\n",
              "      <td>8545</td>\n",
              "      <td>8542.000000</td>\n",
              "      <td>3529.000000</td>\n",
              "      <td>8543</td>\n",
              "      <td>8543</td>\n",
              "      <td>4144.000000</td>\n",
              "      <td>8545</td>\n",
              "      <td>6465</td>\n",
              "      <td>8540</td>\n",
              "      <td>8341</td>\n",
              "      <td>8545</td>\n",
              "    </tr>\n",
              "    <tr>\n",
              "      <th>unique</th>\n",
              "      <td>2767</td>\n",
              "      <td>NaN</td>\n",
              "      <td>NaN</td>\n",
              "      <td>2</td>\n",
              "      <td>5</td>\n",
              "      <td>NaN</td>\n",
              "      <td>6</td>\n",
              "      <td>1</td>\n",
              "      <td>9</td>\n",
              "      <td>58</td>\n",
              "      <td>4</td>\n",
              "    </tr>\n",
              "    <tr>\n",
              "      <th>top</th>\n",
              "      <td>£13,995</td>\n",
              "      <td>NaN</td>\n",
              "      <td>NaN</td>\n",
              "      <td>Automatic</td>\n",
              "      <td>Diesel</td>\n",
              "      <td>NaN</td>\n",
              "      <td>Saloon</td>\n",
              "      <td>ULEZ</td>\n",
              "      <td>2.0L</td>\n",
              "      <td>2018 (18 reg)</td>\n",
              "      <td>BMW_3 Series</td>\n",
              "    </tr>\n",
              "    <tr>\n",
              "      <th>freq</th>\n",
              "      <td>54</td>\n",
              "      <td>NaN</td>\n",
              "      <td>NaN</td>\n",
              "      <td>6073</td>\n",
              "      <td>4595</td>\n",
              "      <td>NaN</td>\n",
              "      <td>4686</td>\n",
              "      <td>6465</td>\n",
              "      <td>5763</td>\n",
              "      <td>512</td>\n",
              "      <td>7146</td>\n",
              "    </tr>\n",
              "    <tr>\n",
              "      <th>mean</th>\n",
              "      <td>NaN</td>\n",
              "      <td>62389.014282</td>\n",
              "      <td>198.741286</td>\n",
              "      <td>NaN</td>\n",
              "      <td>NaN</td>\n",
              "      <td>2.933398</td>\n",
              "      <td>NaN</td>\n",
              "      <td>NaN</td>\n",
              "      <td>NaN</td>\n",
              "      <td>NaN</td>\n",
              "      <td>NaN</td>\n",
              "    </tr>\n",
              "    <tr>\n",
              "      <th>std</th>\n",
              "      <td>NaN</td>\n",
              "      <td>38989.327336</td>\n",
              "      <td>51.399266</td>\n",
              "      <td>NaN</td>\n",
              "      <td>NaN</td>\n",
              "      <td>1.240909</td>\n",
              "      <td>NaN</td>\n",
              "      <td>NaN</td>\n",
              "      <td>NaN</td>\n",
              "      <td>NaN</td>\n",
              "      <td>NaN</td>\n",
              "    </tr>\n",
              "    <tr>\n",
              "      <th>min</th>\n",
              "      <td>NaN</td>\n",
              "      <td>25.000000</td>\n",
              "      <td>114.000000</td>\n",
              "      <td>NaN</td>\n",
              "      <td>NaN</td>\n",
              "      <td>2.000000</td>\n",
              "      <td>NaN</td>\n",
              "      <td>NaN</td>\n",
              "      <td>NaN</td>\n",
              "      <td>NaN</td>\n",
              "      <td>NaN</td>\n",
              "    </tr>\n",
              "    <tr>\n",
              "      <th>25%</th>\n",
              "      <td>NaN</td>\n",
              "      <td>30113.250000</td>\n",
              "      <td>181.000000</td>\n",
              "      <td>NaN</td>\n",
              "      <td>NaN</td>\n",
              "      <td>2.000000</td>\n",
              "      <td>NaN</td>\n",
              "      <td>NaN</td>\n",
              "      <td>NaN</td>\n",
              "      <td>NaN</td>\n",
              "      <td>NaN</td>\n",
              "    </tr>\n",
              "    <tr>\n",
              "      <th>50%</th>\n",
              "      <td>NaN</td>\n",
              "      <td>55998.000000</td>\n",
              "      <td>190.000000</td>\n",
              "      <td>NaN</td>\n",
              "      <td>NaN</td>\n",
              "      <td>3.000000</td>\n",
              "      <td>NaN</td>\n",
              "      <td>NaN</td>\n",
              "      <td>NaN</td>\n",
              "      <td>NaN</td>\n",
              "      <td>NaN</td>\n",
              "    </tr>\n",
              "    <tr>\n",
              "      <th>75%</th>\n",
              "      <td>NaN</td>\n",
              "      <td>89434.000000</td>\n",
              "      <td>192.000000</td>\n",
              "      <td>NaN</td>\n",
              "      <td>NaN</td>\n",
              "      <td>3.000000</td>\n",
              "      <td>NaN</td>\n",
              "      <td>NaN</td>\n",
              "      <td>NaN</td>\n",
              "      <td>NaN</td>\n",
              "      <td>NaN</td>\n",
              "    </tr>\n",
              "    <tr>\n",
              "      <th>max</th>\n",
              "      <td>NaN</td>\n",
              "      <td>225000.000000</td>\n",
              "      <td>450.000000</td>\n",
              "      <td>NaN</td>\n",
              "      <td>NaN</td>\n",
              "      <td>11.000000</td>\n",
              "      <td>NaN</td>\n",
              "      <td>NaN</td>\n",
              "      <td>NaN</td>\n",
              "      <td>NaN</td>\n",
              "      <td>NaN</td>\n",
              "    </tr>\n",
              "  </tbody>\n",
              "</table>\n",
              "</div>\n",
              "      <button class=\"colab-df-convert\" onclick=\"convertToInteractive('df-564a9db9-2ce9-49b6-8092-fd0b501f0a4e')\"\n",
              "              title=\"Convert this dataframe to an interactive table.\"\n",
              "              style=\"display:none;\">\n",
              "        \n",
              "  <svg xmlns=\"http://www.w3.org/2000/svg\" height=\"24px\"viewBox=\"0 0 24 24\"\n",
              "       width=\"24px\">\n",
              "    <path d=\"M0 0h24v24H0V0z\" fill=\"none\"/>\n",
              "    <path d=\"M18.56 5.44l.94 2.06.94-2.06 2.06-.94-2.06-.94-.94-2.06-.94 2.06-2.06.94zm-11 1L8.5 8.5l.94-2.06 2.06-.94-2.06-.94L8.5 2.5l-.94 2.06-2.06.94zm10 10l.94 2.06.94-2.06 2.06-.94-2.06-.94-.94-2.06-.94 2.06-2.06.94z\"/><path d=\"M17.41 7.96l-1.37-1.37c-.4-.4-.92-.59-1.43-.59-.52 0-1.04.2-1.43.59L10.3 9.45l-7.72 7.72c-.78.78-.78 2.05 0 2.83L4 21.41c.39.39.9.59 1.41.59.51 0 1.02-.2 1.41-.59l7.78-7.78 2.81-2.81c.8-.78.8-2.07 0-2.86zM5.41 20L4 18.59l7.72-7.72 1.47 1.35L5.41 20z\"/>\n",
              "  </svg>\n",
              "      </button>\n",
              "      \n",
              "  <style>\n",
              "    .colab-df-container {\n",
              "      display:flex;\n",
              "      flex-wrap:wrap;\n",
              "      gap: 12px;\n",
              "    }\n",
              "\n",
              "    .colab-df-convert {\n",
              "      background-color: #E8F0FE;\n",
              "      border: none;\n",
              "      border-radius: 50%;\n",
              "      cursor: pointer;\n",
              "      display: none;\n",
              "      fill: #1967D2;\n",
              "      height: 32px;\n",
              "      padding: 0 0 0 0;\n",
              "      width: 32px;\n",
              "    }\n",
              "\n",
              "    .colab-df-convert:hover {\n",
              "      background-color: #E2EBFA;\n",
              "      box-shadow: 0px 1px 2px rgba(60, 64, 67, 0.3), 0px 1px 3px 1px rgba(60, 64, 67, 0.15);\n",
              "      fill: #174EA6;\n",
              "    }\n",
              "\n",
              "    [theme=dark] .colab-df-convert {\n",
              "      background-color: #3B4455;\n",
              "      fill: #D2E3FC;\n",
              "    }\n",
              "\n",
              "    [theme=dark] .colab-df-convert:hover {\n",
              "      background-color: #434B5C;\n",
              "      box-shadow: 0px 1px 3px 1px rgba(0, 0, 0, 0.15);\n",
              "      filter: drop-shadow(0px 1px 2px rgba(0, 0, 0, 0.3));\n",
              "      fill: #FFFFFF;\n",
              "    }\n",
              "  </style>\n",
              "\n",
              "      <script>\n",
              "        const buttonEl =\n",
              "          document.querySelector('#df-564a9db9-2ce9-49b6-8092-fd0b501f0a4e button.colab-df-convert');\n",
              "        buttonEl.style.display =\n",
              "          google.colab.kernel.accessAllowed ? 'block' : 'none';\n",
              "\n",
              "        async function convertToInteractive(key) {\n",
              "          const element = document.querySelector('#df-564a9db9-2ce9-49b6-8092-fd0b501f0a4e');\n",
              "          const dataTable =\n",
              "            await google.colab.kernel.invokeFunction('convertToInteractive',\n",
              "                                                     [key], {});\n",
              "          if (!dataTable) return;\n",
              "\n",
              "          const docLinkHtml = 'Like what you see? Visit the ' +\n",
              "            '<a target=\"_blank\" href=https://colab.research.google.com/notebooks/data_table.ipynb>data table notebook</a>'\n",
              "            + ' to learn more about interactive tables.';\n",
              "          element.innerHTML = '';\n",
              "          dataTable['output_type'] = 'display_data';\n",
              "          await google.colab.output.renderOutput(dataTable, element);\n",
              "          const docLink = document.createElement('div');\n",
              "          docLink.innerHTML = docLinkHtml;\n",
              "          element.appendChild(docLink);\n",
              "        }\n",
              "      </script>\n",
              "    </div>\n",
              "  </div>\n",
              "  "
            ]
          },
          "metadata": {},
          "execution_count": 30
        }
      ]
    },
    {
      "cell_type": "code",
      "source": [
        "# Exploring the data types - note: price, engine, and the year columns should be floats, not objects\n",
        "\n",
        "cars.dtypes"
      ],
      "metadata": {
        "colab": {
          "base_uri": "https://localhost:8080/"
        },
        "id": "D6wk21mrjUNl",
        "outputId": "e4212b70-f44a-458d-8ad4-ee1d594f0364"
      },
      "execution_count": 31,
      "outputs": [
        {
          "output_type": "execute_result",
          "data": {
            "text/plain": [
              "price            object\n",
              "mileage         float64\n",
              "BHP             float64\n",
              "transmission     object\n",
              "fuel             object\n",
              "owners          float64\n",
              "body             object\n",
              "ULEZ             object\n",
              "engine           object\n",
              "year             object\n",
              "car model        object\n",
              "dtype: object"
            ]
          },
          "metadata": {},
          "execution_count": 31
        }
      ]
    },
    {
      "cell_type": "code",
      "source": [
        "# Converting the price from object to float with .astype(float)\n",
        "# Removing the £ from price .replace('[\\£]')\n",
        "\n",
        "cars['price'] = cars['price'].replace('[\\£,]', '', regex=True).astype(float)\n",
        "\n",
        "#Confirm changes\n",
        "cars['price'].head()"
      ],
      "metadata": {
        "colab": {
          "base_uri": "https://localhost:8080/"
        },
        "id": "2FieY_TqjV4n",
        "outputId": "a002aca6-6cc0-4225-dc59-274d9c2efae0"
      },
      "execution_count": 32,
      "outputs": [
        {
          "output_type": "execute_result",
          "data": {
            "text/plain": [
              "0    2760.0\n",
              "1    4480.0\n",
              "2    2495.0\n",
              "3    2995.0\n",
              "4    1990.0\n",
              "Name: price, dtype: float64"
            ]
          },
          "metadata": {},
          "execution_count": 32
        }
      ]
    },
    {
      "cell_type": "code",
      "source": [
        "# Changing engine from object to float\n",
        "# Removing L unit from engine column\n",
        "\n",
        "cars['engine'] = cars['engine'].replace('[L\\,]', '', regex=True).astype(float)\n",
        "\n",
        "#Confirm changes\n",
        "cars['engine'].head()"
      ],
      "metadata": {
        "colab": {
          "base_uri": "https://localhost:8080/"
        },
        "id": "xUoREHMujZGE",
        "outputId": "73793e1f-0360-4409-f962-680ec7a5af53"
      },
      "execution_count": 33,
      "outputs": [
        {
          "output_type": "execute_result",
          "data": {
            "text/plain": [
              "0    3.0\n",
              "1    3.0\n",
              "2    3.0\n",
              "3    2.5\n",
              "4    2.0\n",
              "Name: engine, dtype: float64"
            ]
          },
          "metadata": {},
          "execution_count": 33
        }
      ]
    },
    {
      "cell_type": "code",
      "source": [
        "# Renaming the price column into price_gbp and the engine column into engine_l (to keep knowledge of measurements)\n",
        "\n",
        "cars.rename(columns={\"price\": \"price_gbp\", \"engine\": \"engine_l\"}, inplace=True)\n",
        "\n",
        "#Confirm changes\n",
        "cars[['price_gbp', 'engine_l']].head()"
      ],
      "metadata": {
        "colab": {
          "base_uri": "https://localhost:8080/",
          "height": 206
        },
        "id": "6kHWTEw4jeNE",
        "outputId": "f56bdf43-e841-423c-cccb-5011ba79d43d"
      },
      "execution_count": 34,
      "outputs": [
        {
          "output_type": "execute_result",
          "data": {
            "text/plain": [
              "   price_gbp  engine_l\n",
              "0     2760.0       3.0\n",
              "1     4480.0       3.0\n",
              "2     2495.0       3.0\n",
              "3     2995.0       2.5\n",
              "4     1990.0       2.0"
            ],
            "text/html": [
              "\n",
              "  <div id=\"df-c9eacb1f-17f2-4f15-bf21-016904461754\">\n",
              "    <div class=\"colab-df-container\">\n",
              "      <div>\n",
              "<style scoped>\n",
              "    .dataframe tbody tr th:only-of-type {\n",
              "        vertical-align: middle;\n",
              "    }\n",
              "\n",
              "    .dataframe tbody tr th {\n",
              "        vertical-align: top;\n",
              "    }\n",
              "\n",
              "    .dataframe thead th {\n",
              "        text-align: right;\n",
              "    }\n",
              "</style>\n",
              "<table border=\"1\" class=\"dataframe\">\n",
              "  <thead>\n",
              "    <tr style=\"text-align: right;\">\n",
              "      <th></th>\n",
              "      <th>price_gbp</th>\n",
              "      <th>engine_l</th>\n",
              "    </tr>\n",
              "  </thead>\n",
              "  <tbody>\n",
              "    <tr>\n",
              "      <th>0</th>\n",
              "      <td>2760.0</td>\n",
              "      <td>3.0</td>\n",
              "    </tr>\n",
              "    <tr>\n",
              "      <th>1</th>\n",
              "      <td>4480.0</td>\n",
              "      <td>3.0</td>\n",
              "    </tr>\n",
              "    <tr>\n",
              "      <th>2</th>\n",
              "      <td>2495.0</td>\n",
              "      <td>3.0</td>\n",
              "    </tr>\n",
              "    <tr>\n",
              "      <th>3</th>\n",
              "      <td>2995.0</td>\n",
              "      <td>2.5</td>\n",
              "    </tr>\n",
              "    <tr>\n",
              "      <th>4</th>\n",
              "      <td>1990.0</td>\n",
              "      <td>2.0</td>\n",
              "    </tr>\n",
              "  </tbody>\n",
              "</table>\n",
              "</div>\n",
              "      <button class=\"colab-df-convert\" onclick=\"convertToInteractive('df-c9eacb1f-17f2-4f15-bf21-016904461754')\"\n",
              "              title=\"Convert this dataframe to an interactive table.\"\n",
              "              style=\"display:none;\">\n",
              "        \n",
              "  <svg xmlns=\"http://www.w3.org/2000/svg\" height=\"24px\"viewBox=\"0 0 24 24\"\n",
              "       width=\"24px\">\n",
              "    <path d=\"M0 0h24v24H0V0z\" fill=\"none\"/>\n",
              "    <path d=\"M18.56 5.44l.94 2.06.94-2.06 2.06-.94-2.06-.94-.94-2.06-.94 2.06-2.06.94zm-11 1L8.5 8.5l.94-2.06 2.06-.94-2.06-.94L8.5 2.5l-.94 2.06-2.06.94zm10 10l.94 2.06.94-2.06 2.06-.94-2.06-.94-.94-2.06-.94 2.06-2.06.94z\"/><path d=\"M17.41 7.96l-1.37-1.37c-.4-.4-.92-.59-1.43-.59-.52 0-1.04.2-1.43.59L10.3 9.45l-7.72 7.72c-.78.78-.78 2.05 0 2.83L4 21.41c.39.39.9.59 1.41.59.51 0 1.02-.2 1.41-.59l7.78-7.78 2.81-2.81c.8-.78.8-2.07 0-2.86zM5.41 20L4 18.59l7.72-7.72 1.47 1.35L5.41 20z\"/>\n",
              "  </svg>\n",
              "      </button>\n",
              "      \n",
              "  <style>\n",
              "    .colab-df-container {\n",
              "      display:flex;\n",
              "      flex-wrap:wrap;\n",
              "      gap: 12px;\n",
              "    }\n",
              "\n",
              "    .colab-df-convert {\n",
              "      background-color: #E8F0FE;\n",
              "      border: none;\n",
              "      border-radius: 50%;\n",
              "      cursor: pointer;\n",
              "      display: none;\n",
              "      fill: #1967D2;\n",
              "      height: 32px;\n",
              "      padding: 0 0 0 0;\n",
              "      width: 32px;\n",
              "    }\n",
              "\n",
              "    .colab-df-convert:hover {\n",
              "      background-color: #E2EBFA;\n",
              "      box-shadow: 0px 1px 2px rgba(60, 64, 67, 0.3), 0px 1px 3px 1px rgba(60, 64, 67, 0.15);\n",
              "      fill: #174EA6;\n",
              "    }\n",
              "\n",
              "    [theme=dark] .colab-df-convert {\n",
              "      background-color: #3B4455;\n",
              "      fill: #D2E3FC;\n",
              "    }\n",
              "\n",
              "    [theme=dark] .colab-df-convert:hover {\n",
              "      background-color: #434B5C;\n",
              "      box-shadow: 0px 1px 3px 1px rgba(0, 0, 0, 0.15);\n",
              "      filter: drop-shadow(0px 1px 2px rgba(0, 0, 0, 0.3));\n",
              "      fill: #FFFFFF;\n",
              "    }\n",
              "  </style>\n",
              "\n",
              "      <script>\n",
              "        const buttonEl =\n",
              "          document.querySelector('#df-c9eacb1f-17f2-4f15-bf21-016904461754 button.colab-df-convert');\n",
              "        buttonEl.style.display =\n",
              "          google.colab.kernel.accessAllowed ? 'block' : 'none';\n",
              "\n",
              "        async function convertToInteractive(key) {\n",
              "          const element = document.querySelector('#df-c9eacb1f-17f2-4f15-bf21-016904461754');\n",
              "          const dataTable =\n",
              "            await google.colab.kernel.invokeFunction('convertToInteractive',\n",
              "                                                     [key], {});\n",
              "          if (!dataTable) return;\n",
              "\n",
              "          const docLinkHtml = 'Like what you see? Visit the ' +\n",
              "            '<a target=\"_blank\" href=https://colab.research.google.com/notebooks/data_table.ipynb>data table notebook</a>'\n",
              "            + ' to learn more about interactive tables.';\n",
              "          element.innerHTML = '';\n",
              "          dataTable['output_type'] = 'display_data';\n",
              "          await google.colab.output.renderOutput(dataTable, element);\n",
              "          const docLink = document.createElement('div');\n",
              "          docLink.innerHTML = docLinkHtml;\n",
              "          element.appendChild(docLink);\n",
              "        }\n",
              "      </script>\n",
              "    </div>\n",
              "  </div>\n",
              "  "
            ]
          },
          "metadata": {},
          "execution_count": 34
        }
      ]
    },
    {
      "cell_type": "code",
      "source": [
        "# Determining the unique values of the car model column - decision: remove the underscore\n",
        "\n",
        "cars[\"car model\"].unique()"
      ],
      "metadata": {
        "colab": {
          "base_uri": "https://localhost:8080/"
        },
        "id": "LF8N5UPPjhcW",
        "outputId": "98f61e27-21ca-4b6a-eb53-2daa7233394a"
      },
      "execution_count": 35,
      "outputs": [
        {
          "output_type": "execute_result",
          "data": {
            "text/plain": [
              "array(['BMW_5 Series', 'BMW_3 Series', 'BMW_2 Series', 'BMW_M3'],\n",
              "      dtype=object)"
            ]
          },
          "metadata": {},
          "execution_count": 35
        }
      ]
    },
    {
      "cell_type": "code",
      "source": [
        "# Creating a function to remove the underscore\n",
        "\n",
        "def car_model_cleaner(x):\n",
        "    return x.replace('_', ' ').strip().upper()"
      ],
      "metadata": {
        "id": "hpKZ2yOrj8LZ"
      },
      "execution_count": 36,
      "outputs": []
    },
    {
      "cell_type": "code",
      "source": [
        "# Using the car_model_cleaner function on the car models\n",
        "\n",
        "cars['car model'] = cars['car model'].apply(car_model_cleaner)\n",
        "\n",
        "#Confirm changes\n",
        "cars['car model'].unique()"
      ],
      "metadata": {
        "colab": {
          "base_uri": "https://localhost:8080/"
        },
        "id": "JADcWGKXj-Lm",
        "outputId": "1103ad98-5086-4e92-f99c-642693a6b81f"
      },
      "execution_count": 37,
      "outputs": [
        {
          "output_type": "execute_result",
          "data": {
            "text/plain": [
              "array(['BMW 5 SERIES', 'BMW 3 SERIES', 'BMW 2 SERIES', 'BMW M3'],\n",
              "      dtype=object)"
            ]
          },
          "metadata": {},
          "execution_count": 37
        }
      ]
    },
    {
      "cell_type": "code",
      "source": [
        "# Reorganizing the data frame, so that the car model is the first column\n",
        "\n",
        "first_column = cars.pop('car model')\n",
        "\n",
        "# Insert column using insert(position, column_name, first_column) function\n",
        "\n",
        "cars.insert(0, 'car model', first_column)\n",
        "\n",
        "#Confirm changes\n",
        "cars.head()"
      ],
      "metadata": {
        "colab": {
          "base_uri": "https://localhost:8080/",
          "height": 206
        },
        "id": "9AtitgIZj_0w",
        "outputId": "c4187e41-0192-4ec2-8ece-1e5d51133ca6"
      },
      "execution_count": 38,
      "outputs": [
        {
          "output_type": "execute_result",
          "data": {
            "text/plain": [
              "      car model  price_gbp   mileage  BHP transmission    fuel  owners  \\\n",
              "0  BMW 5 SERIES     2760.0  183000.0  NaN       Manual  Diesel     3.0   \n",
              "1  BMW 5 SERIES     4480.0  129000.0  NaN    Automatic  Diesel     NaN   \n",
              "2  BMW 5 SERIES     2495.0   34000.0  NaN    Automatic  Petrol     2.0   \n",
              "3  BMW 5 SERIES     2995.0  133000.0  NaN    Automatic  Diesel     3.0   \n",
              "4  BMW 5 SERIES     1990.0  186000.0  NaN       Manual  Diesel     NaN   \n",
              "\n",
              "     body ULEZ  engine_l           year  \n",
              "0  Saloon  NaN       3.0  2005 (05 reg)  \n",
              "1  Saloon  NaN       3.0  2005 (05 reg)  \n",
              "2  Saloon  NaN       3.0  2005 (05 reg)  \n",
              "3  Saloon  NaN       2.5  2005 (55 reg)  \n",
              "4  Estate  NaN       2.0  2005 (55 reg)  "
            ],
            "text/html": [
              "\n",
              "  <div id=\"df-78b3175a-d810-4736-bc62-96983b08be7d\">\n",
              "    <div class=\"colab-df-container\">\n",
              "      <div>\n",
              "<style scoped>\n",
              "    .dataframe tbody tr th:only-of-type {\n",
              "        vertical-align: middle;\n",
              "    }\n",
              "\n",
              "    .dataframe tbody tr th {\n",
              "        vertical-align: top;\n",
              "    }\n",
              "\n",
              "    .dataframe thead th {\n",
              "        text-align: right;\n",
              "    }\n",
              "</style>\n",
              "<table border=\"1\" class=\"dataframe\">\n",
              "  <thead>\n",
              "    <tr style=\"text-align: right;\">\n",
              "      <th></th>\n",
              "      <th>car model</th>\n",
              "      <th>price_gbp</th>\n",
              "      <th>mileage</th>\n",
              "      <th>BHP</th>\n",
              "      <th>transmission</th>\n",
              "      <th>fuel</th>\n",
              "      <th>owners</th>\n",
              "      <th>body</th>\n",
              "      <th>ULEZ</th>\n",
              "      <th>engine_l</th>\n",
              "      <th>year</th>\n",
              "    </tr>\n",
              "  </thead>\n",
              "  <tbody>\n",
              "    <tr>\n",
              "      <th>0</th>\n",
              "      <td>BMW 5 SERIES</td>\n",
              "      <td>2760.0</td>\n",
              "      <td>183000.0</td>\n",
              "      <td>NaN</td>\n",
              "      <td>Manual</td>\n",
              "      <td>Diesel</td>\n",
              "      <td>3.0</td>\n",
              "      <td>Saloon</td>\n",
              "      <td>NaN</td>\n",
              "      <td>3.0</td>\n",
              "      <td>2005 (05 reg)</td>\n",
              "    </tr>\n",
              "    <tr>\n",
              "      <th>1</th>\n",
              "      <td>BMW 5 SERIES</td>\n",
              "      <td>4480.0</td>\n",
              "      <td>129000.0</td>\n",
              "      <td>NaN</td>\n",
              "      <td>Automatic</td>\n",
              "      <td>Diesel</td>\n",
              "      <td>NaN</td>\n",
              "      <td>Saloon</td>\n",
              "      <td>NaN</td>\n",
              "      <td>3.0</td>\n",
              "      <td>2005 (05 reg)</td>\n",
              "    </tr>\n",
              "    <tr>\n",
              "      <th>2</th>\n",
              "      <td>BMW 5 SERIES</td>\n",
              "      <td>2495.0</td>\n",
              "      <td>34000.0</td>\n",
              "      <td>NaN</td>\n",
              "      <td>Automatic</td>\n",
              "      <td>Petrol</td>\n",
              "      <td>2.0</td>\n",
              "      <td>Saloon</td>\n",
              "      <td>NaN</td>\n",
              "      <td>3.0</td>\n",
              "      <td>2005 (05 reg)</td>\n",
              "    </tr>\n",
              "    <tr>\n",
              "      <th>3</th>\n",
              "      <td>BMW 5 SERIES</td>\n",
              "      <td>2995.0</td>\n",
              "      <td>133000.0</td>\n",
              "      <td>NaN</td>\n",
              "      <td>Automatic</td>\n",
              "      <td>Diesel</td>\n",
              "      <td>3.0</td>\n",
              "      <td>Saloon</td>\n",
              "      <td>NaN</td>\n",
              "      <td>2.5</td>\n",
              "      <td>2005 (55 reg)</td>\n",
              "    </tr>\n",
              "    <tr>\n",
              "      <th>4</th>\n",
              "      <td>BMW 5 SERIES</td>\n",
              "      <td>1990.0</td>\n",
              "      <td>186000.0</td>\n",
              "      <td>NaN</td>\n",
              "      <td>Manual</td>\n",
              "      <td>Diesel</td>\n",
              "      <td>NaN</td>\n",
              "      <td>Estate</td>\n",
              "      <td>NaN</td>\n",
              "      <td>2.0</td>\n",
              "      <td>2005 (55 reg)</td>\n",
              "    </tr>\n",
              "  </tbody>\n",
              "</table>\n",
              "</div>\n",
              "      <button class=\"colab-df-convert\" onclick=\"convertToInteractive('df-78b3175a-d810-4736-bc62-96983b08be7d')\"\n",
              "              title=\"Convert this dataframe to an interactive table.\"\n",
              "              style=\"display:none;\">\n",
              "        \n",
              "  <svg xmlns=\"http://www.w3.org/2000/svg\" height=\"24px\"viewBox=\"0 0 24 24\"\n",
              "       width=\"24px\">\n",
              "    <path d=\"M0 0h24v24H0V0z\" fill=\"none\"/>\n",
              "    <path d=\"M18.56 5.44l.94 2.06.94-2.06 2.06-.94-2.06-.94-.94-2.06-.94 2.06-2.06.94zm-11 1L8.5 8.5l.94-2.06 2.06-.94-2.06-.94L8.5 2.5l-.94 2.06-2.06.94zm10 10l.94 2.06.94-2.06 2.06-.94-2.06-.94-.94-2.06-.94 2.06-2.06.94z\"/><path d=\"M17.41 7.96l-1.37-1.37c-.4-.4-.92-.59-1.43-.59-.52 0-1.04.2-1.43.59L10.3 9.45l-7.72 7.72c-.78.78-.78 2.05 0 2.83L4 21.41c.39.39.9.59 1.41.59.51 0 1.02-.2 1.41-.59l7.78-7.78 2.81-2.81c.8-.78.8-2.07 0-2.86zM5.41 20L4 18.59l7.72-7.72 1.47 1.35L5.41 20z\"/>\n",
              "  </svg>\n",
              "      </button>\n",
              "      \n",
              "  <style>\n",
              "    .colab-df-container {\n",
              "      display:flex;\n",
              "      flex-wrap:wrap;\n",
              "      gap: 12px;\n",
              "    }\n",
              "\n",
              "    .colab-df-convert {\n",
              "      background-color: #E8F0FE;\n",
              "      border: none;\n",
              "      border-radius: 50%;\n",
              "      cursor: pointer;\n",
              "      display: none;\n",
              "      fill: #1967D2;\n",
              "      height: 32px;\n",
              "      padding: 0 0 0 0;\n",
              "      width: 32px;\n",
              "    }\n",
              "\n",
              "    .colab-df-convert:hover {\n",
              "      background-color: #E2EBFA;\n",
              "      box-shadow: 0px 1px 2px rgba(60, 64, 67, 0.3), 0px 1px 3px 1px rgba(60, 64, 67, 0.15);\n",
              "      fill: #174EA6;\n",
              "    }\n",
              "\n",
              "    [theme=dark] .colab-df-convert {\n",
              "      background-color: #3B4455;\n",
              "      fill: #D2E3FC;\n",
              "    }\n",
              "\n",
              "    [theme=dark] .colab-df-convert:hover {\n",
              "      background-color: #434B5C;\n",
              "      box-shadow: 0px 1px 3px 1px rgba(0, 0, 0, 0.15);\n",
              "      filter: drop-shadow(0px 1px 2px rgba(0, 0, 0, 0.3));\n",
              "      fill: #FFFFFF;\n",
              "    }\n",
              "  </style>\n",
              "\n",
              "      <script>\n",
              "        const buttonEl =\n",
              "          document.querySelector('#df-78b3175a-d810-4736-bc62-96983b08be7d button.colab-df-convert');\n",
              "        buttonEl.style.display =\n",
              "          google.colab.kernel.accessAllowed ? 'block' : 'none';\n",
              "\n",
              "        async function convertToInteractive(key) {\n",
              "          const element = document.querySelector('#df-78b3175a-d810-4736-bc62-96983b08be7d');\n",
              "          const dataTable =\n",
              "            await google.colab.kernel.invokeFunction('convertToInteractive',\n",
              "                                                     [key], {});\n",
              "          if (!dataTable) return;\n",
              "\n",
              "          const docLinkHtml = 'Like what you see? Visit the ' +\n",
              "            '<a target=\"_blank\" href=https://colab.research.google.com/notebooks/data_table.ipynb>data table notebook</a>'\n",
              "            + ' to learn more about interactive tables.';\n",
              "          element.innerHTML = '';\n",
              "          dataTable['output_type'] = 'display_data';\n",
              "          await google.colab.output.renderOutput(dataTable, element);\n",
              "          const docLink = document.createElement('div');\n",
              "          docLink.innerHTML = docLinkHtml;\n",
              "          element.appendChild(docLink);\n",
              "        }\n",
              "      </script>\n",
              "    </div>\n",
              "  </div>\n",
              "  "
            ]
          },
          "metadata": {},
          "execution_count": 38
        }
      ]
    },
    {
      "cell_type": "code",
      "source": [
        "# Checking unique elements\n",
        "\n",
        "print(cars['transmission'].unique()) #looks good\n",
        "print(cars['fuel'].unique()) #looks good\n",
        "print(cars['body'].unique()) #looks good\n",
        "print(cars['ULEZ'].unique()) #looks good\n",
        "print(cars['year'].unique()) #will need to seperate year and registration year"
      ],
      "metadata": {
        "colab": {
          "base_uri": "https://localhost:8080/"
        },
        "id": "7ndg7QvAkC9Y",
        "outputId": "2e9983e5-1e63-4b32-a087-f1c54da383d5"
      },
      "execution_count": 39,
      "outputs": [
        {
          "output_type": "stream",
          "name": "stdout",
          "text": [
            "['Manual' 'Automatic' nan]\n",
            "['Diesel' 'Petrol' 'Petrol Hybrid' 'Petrol Plug-in Hybrid' 'Diesel Hybrid'\n",
            " nan]\n",
            "['Saloon' 'Estate' 'Coupe' 'Convertible' 'MPV' 'Hatchback']\n",
            "[nan 'ULEZ']\n",
            "['2005 (05 reg)' '2005 (55 reg)' '2005 (53 reg)' nan '2006 (56 reg)'\n",
            " '2006 (06 reg)' '2006 (55 reg)' '2005 (54 reg)' '2007 (57 reg)'\n",
            " '2007 (07 reg)' '2007 (56 reg)' '2007 (06 reg)' '2008 (08 reg)'\n",
            " '2008 (58 reg)' '2008 (57 reg)' '2009 (08 reg)' '2009 (59 reg)'\n",
            " '2009 (09 reg)' '2009 (58 reg)' '2009 (61 reg)' '2010 (60 reg)'\n",
            " '2010 (10 reg)' '2010 (59 reg)' '2011 (61 reg)' '2011 (11 reg)'\n",
            " '2011 (60 reg)' '2011 (22 reg)' '2012 (62 reg)' '2012 (12 reg)'\n",
            " '2012 (61 reg)' '2012 (19 reg)' '2013 (13 reg)' '2013 (63 reg)'\n",
            " '2013 (62 reg)' '2014 (64 reg)' '2014 (14 reg)' '2014 (63 reg)'\n",
            " '2015 (65 reg)' '2015 (15 reg)' '2015 (64 reg)' '2016 (16 reg)'\n",
            " '2016 (65 reg)' '2016 (66 reg)' '2017 (17 reg)' '2017 (67 reg)'\n",
            " '2017 (66 reg)' '2018 (68 reg)' '2018 (18 reg)' '2018 (67 reg)'\n",
            " '2019 (19 reg)' '2019 (68 reg)' '2019 (69 reg)' '2019 (72 reg)'\n",
            " '2020 (20 reg)' '2020 (69 reg)' '2020 (70 reg)' '2021 (70 reg)'\n",
            " '2021 (21 reg)' '2021 (71 reg)']\n"
          ]
        }
      ]
    },
    {
      "cell_type": "markdown",
      "source": [
        "**Investigating nulls**"
      ],
      "metadata": {
        "id": "OsfHf3l0kIu_"
      }
    },
    {
      "cell_type": "code",
      "source": [
        "# Counting the nulls we have in our data\n",
        "\n",
        "nulls = cars.isnull()\n",
        "nulls.sum()"
      ],
      "metadata": {
        "colab": {
          "base_uri": "https://localhost:8080/"
        },
        "id": "65gERCIqkFAy",
        "outputId": "7d7dc522-d02f-4ece-fefe-7cf315ef9634"
      },
      "execution_count": 40,
      "outputs": [
        {
          "output_type": "execute_result",
          "data": {
            "text/plain": [
              "car model          0\n",
              "price_gbp          0\n",
              "mileage            3\n",
              "BHP             5016\n",
              "transmission       2\n",
              "fuel               2\n",
              "owners          4401\n",
              "body               0\n",
              "ULEZ            2080\n",
              "engine_l           5\n",
              "year             204\n",
              "dtype: int64"
            ]
          },
          "metadata": {},
          "execution_count": 40
        }
      ]
    },
    {
      "cell_type": "code",
      "source": [
        "# Counting the non nulls\n",
        "\n",
        "notnull = cars.notnull()  # truth table\n",
        "notnull.sum()"
      ],
      "metadata": {
        "colab": {
          "base_uri": "https://localhost:8080/"
        },
        "id": "804wt5lhkL3F",
        "outputId": "049366f8-9c74-412b-d3a7-56cd8322f053"
      },
      "execution_count": 41,
      "outputs": [
        {
          "output_type": "execute_result",
          "data": {
            "text/plain": [
              "car model       8545\n",
              "price_gbp       8545\n",
              "mileage         8542\n",
              "BHP             3529\n",
              "transmission    8543\n",
              "fuel            8543\n",
              "owners          4144\n",
              "body            8545\n",
              "ULEZ            6465\n",
              "engine_l        8540\n",
              "year            8341\n",
              "dtype: int64"
            ]
          },
          "metadata": {},
          "execution_count": 41
        }
      ]
    },
    {
      "cell_type": "code",
      "source": [
        "#rows per column\n",
        "cars.shape[0]"
      ],
      "metadata": {
        "colab": {
          "base_uri": "https://localhost:8080/"
        },
        "id": "LHle5fsOkTau",
        "outputId": "96c96a97-b35c-4136-8975-831579ac0c61"
      },
      "execution_count": 42,
      "outputs": [
        {
          "output_type": "execute_result",
          "data": {
            "text/plain": [
              "8545"
            ]
          },
          "metadata": {},
          "execution_count": 42
        }
      ]
    },
    {
      "cell_type": "code",
      "source": [
        "# Creating a function for the number and percentage of nulls\n",
        "\n",
        "def null_values(df):\n",
        "    #number of null values\n",
        "    no_nulls = df.isnull().sum()\n",
        "    #total number of rows (with or without nulls)\n",
        "    no_total = df.shape[0]\n",
        "    nulls_df = pd.DataFrame(no_nulls, columns=['number_of_nulls'])\n",
        "    nulls_df['percentage'] = round((nulls_df['number_of_nulls'] / no_total) * 100, 3)\n",
        "    return nulls_df.sort_values('percentage', ascending=False)\n",
        "\n",
        "\n",
        "#Checking the number and percentage of nulls\n",
        "null_values(cars)"
      ],
      "metadata": {
        "colab": {
          "base_uri": "https://localhost:8080/",
          "height": 394
        },
        "id": "XFcGKi-JkT49",
        "outputId": "2e8da5d5-573f-47e6-dd1f-68bf9629dc4a"
      },
      "execution_count": 43,
      "outputs": [
        {
          "output_type": "execute_result",
          "data": {
            "text/plain": [
              "              number_of_nulls  percentage\n",
              "BHP                      5016      58.701\n",
              "owners                   4401      51.504\n",
              "ULEZ                     2080      24.342\n",
              "year                      204       2.387\n",
              "engine_l                    5       0.059\n",
              "mileage                     3       0.035\n",
              "transmission                2       0.023\n",
              "fuel                        2       0.023\n",
              "car model                   0       0.000\n",
              "price_gbp                   0       0.000\n",
              "body                        0       0.000"
            ],
            "text/html": [
              "\n",
              "  <div id=\"df-c8cd881e-120f-4f11-9df6-bafe92749099\">\n",
              "    <div class=\"colab-df-container\">\n",
              "      <div>\n",
              "<style scoped>\n",
              "    .dataframe tbody tr th:only-of-type {\n",
              "        vertical-align: middle;\n",
              "    }\n",
              "\n",
              "    .dataframe tbody tr th {\n",
              "        vertical-align: top;\n",
              "    }\n",
              "\n",
              "    .dataframe thead th {\n",
              "        text-align: right;\n",
              "    }\n",
              "</style>\n",
              "<table border=\"1\" class=\"dataframe\">\n",
              "  <thead>\n",
              "    <tr style=\"text-align: right;\">\n",
              "      <th></th>\n",
              "      <th>number_of_nulls</th>\n",
              "      <th>percentage</th>\n",
              "    </tr>\n",
              "  </thead>\n",
              "  <tbody>\n",
              "    <tr>\n",
              "      <th>BHP</th>\n",
              "      <td>5016</td>\n",
              "      <td>58.701</td>\n",
              "    </tr>\n",
              "    <tr>\n",
              "      <th>owners</th>\n",
              "      <td>4401</td>\n",
              "      <td>51.504</td>\n",
              "    </tr>\n",
              "    <tr>\n",
              "      <th>ULEZ</th>\n",
              "      <td>2080</td>\n",
              "      <td>24.342</td>\n",
              "    </tr>\n",
              "    <tr>\n",
              "      <th>year</th>\n",
              "      <td>204</td>\n",
              "      <td>2.387</td>\n",
              "    </tr>\n",
              "    <tr>\n",
              "      <th>engine_l</th>\n",
              "      <td>5</td>\n",
              "      <td>0.059</td>\n",
              "    </tr>\n",
              "    <tr>\n",
              "      <th>mileage</th>\n",
              "      <td>3</td>\n",
              "      <td>0.035</td>\n",
              "    </tr>\n",
              "    <tr>\n",
              "      <th>transmission</th>\n",
              "      <td>2</td>\n",
              "      <td>0.023</td>\n",
              "    </tr>\n",
              "    <tr>\n",
              "      <th>fuel</th>\n",
              "      <td>2</td>\n",
              "      <td>0.023</td>\n",
              "    </tr>\n",
              "    <tr>\n",
              "      <th>car model</th>\n",
              "      <td>0</td>\n",
              "      <td>0.000</td>\n",
              "    </tr>\n",
              "    <tr>\n",
              "      <th>price_gbp</th>\n",
              "      <td>0</td>\n",
              "      <td>0.000</td>\n",
              "    </tr>\n",
              "    <tr>\n",
              "      <th>body</th>\n",
              "      <td>0</td>\n",
              "      <td>0.000</td>\n",
              "    </tr>\n",
              "  </tbody>\n",
              "</table>\n",
              "</div>\n",
              "      <button class=\"colab-df-convert\" onclick=\"convertToInteractive('df-c8cd881e-120f-4f11-9df6-bafe92749099')\"\n",
              "              title=\"Convert this dataframe to an interactive table.\"\n",
              "              style=\"display:none;\">\n",
              "        \n",
              "  <svg xmlns=\"http://www.w3.org/2000/svg\" height=\"24px\"viewBox=\"0 0 24 24\"\n",
              "       width=\"24px\">\n",
              "    <path d=\"M0 0h24v24H0V0z\" fill=\"none\"/>\n",
              "    <path d=\"M18.56 5.44l.94 2.06.94-2.06 2.06-.94-2.06-.94-.94-2.06-.94 2.06-2.06.94zm-11 1L8.5 8.5l.94-2.06 2.06-.94-2.06-.94L8.5 2.5l-.94 2.06-2.06.94zm10 10l.94 2.06.94-2.06 2.06-.94-2.06-.94-.94-2.06-.94 2.06-2.06.94z\"/><path d=\"M17.41 7.96l-1.37-1.37c-.4-.4-.92-.59-1.43-.59-.52 0-1.04.2-1.43.59L10.3 9.45l-7.72 7.72c-.78.78-.78 2.05 0 2.83L4 21.41c.39.39.9.59 1.41.59.51 0 1.02-.2 1.41-.59l7.78-7.78 2.81-2.81c.8-.78.8-2.07 0-2.86zM5.41 20L4 18.59l7.72-7.72 1.47 1.35L5.41 20z\"/>\n",
              "  </svg>\n",
              "      </button>\n",
              "      \n",
              "  <style>\n",
              "    .colab-df-container {\n",
              "      display:flex;\n",
              "      flex-wrap:wrap;\n",
              "      gap: 12px;\n",
              "    }\n",
              "\n",
              "    .colab-df-convert {\n",
              "      background-color: #E8F0FE;\n",
              "      border: none;\n",
              "      border-radius: 50%;\n",
              "      cursor: pointer;\n",
              "      display: none;\n",
              "      fill: #1967D2;\n",
              "      height: 32px;\n",
              "      padding: 0 0 0 0;\n",
              "      width: 32px;\n",
              "    }\n",
              "\n",
              "    .colab-df-convert:hover {\n",
              "      background-color: #E2EBFA;\n",
              "      box-shadow: 0px 1px 2px rgba(60, 64, 67, 0.3), 0px 1px 3px 1px rgba(60, 64, 67, 0.15);\n",
              "      fill: #174EA6;\n",
              "    }\n",
              "\n",
              "    [theme=dark] .colab-df-convert {\n",
              "      background-color: #3B4455;\n",
              "      fill: #D2E3FC;\n",
              "    }\n",
              "\n",
              "    [theme=dark] .colab-df-convert:hover {\n",
              "      background-color: #434B5C;\n",
              "      box-shadow: 0px 1px 3px 1px rgba(0, 0, 0, 0.15);\n",
              "      filter: drop-shadow(0px 1px 2px rgba(0, 0, 0, 0.3));\n",
              "      fill: #FFFFFF;\n",
              "    }\n",
              "  </style>\n",
              "\n",
              "      <script>\n",
              "        const buttonEl =\n",
              "          document.querySelector('#df-c8cd881e-120f-4f11-9df6-bafe92749099 button.colab-df-convert');\n",
              "        buttonEl.style.display =\n",
              "          google.colab.kernel.accessAllowed ? 'block' : 'none';\n",
              "\n",
              "        async function convertToInteractive(key) {\n",
              "          const element = document.querySelector('#df-c8cd881e-120f-4f11-9df6-bafe92749099');\n",
              "          const dataTable =\n",
              "            await google.colab.kernel.invokeFunction('convertToInteractive',\n",
              "                                                     [key], {});\n",
              "          if (!dataTable) return;\n",
              "\n",
              "          const docLinkHtml = 'Like what you see? Visit the ' +\n",
              "            '<a target=\"_blank\" href=https://colab.research.google.com/notebooks/data_table.ipynb>data table notebook</a>'\n",
              "            + ' to learn more about interactive tables.';\n",
              "          element.innerHTML = '';\n",
              "          dataTable['output_type'] = 'display_data';\n",
              "          await google.colab.output.renderOutput(dataTable, element);\n",
              "          const docLink = document.createElement('div');\n",
              "          docLink.innerHTML = docLinkHtml;\n",
              "          element.appendChild(docLink);\n",
              "        }\n",
              "      </script>\n",
              "    </div>\n",
              "  </div>\n",
              "  "
            ]
          },
          "metadata": {},
          "execution_count": 43
        }
      ]
    },
    {
      "cell_type": "code",
      "source": [
        "# Dropping null values from columns that attribute to less than 3% of all null values\n",
        "\n",
        "\n",
        "cars.dropna(\n",
        "    axis=0,\n",
        "    how='any',\n",
        "    subset=['year', 'engine_l', \"transmission\", \"mileage\", \"body\",\n",
        "            \"fuel\"],\n",
        "    inplace=True\n",
        ")\n",
        "\n",
        "#Confirm changes\n",
        "null_values(cars[['year', 'engine_l', \"transmission\", \"mileage\", \"body\",\n",
        "            \"fuel\"]])"
      ],
      "metadata": {
        "colab": {
          "base_uri": "https://localhost:8080/",
          "height": 237
        },
        "id": "fCyBVpq2kWfL",
        "outputId": "64ef945f-092e-4465-ae05-37ee07ebf9dc"
      },
      "execution_count": 44,
      "outputs": [
        {
          "output_type": "execute_result",
          "data": {
            "text/plain": [
              "              number_of_nulls  percentage\n",
              "year                        0         0.0\n",
              "engine_l                    0         0.0\n",
              "transmission                0         0.0\n",
              "mileage                     0         0.0\n",
              "body                        0         0.0\n",
              "fuel                        0         0.0"
            ],
            "text/html": [
              "\n",
              "  <div id=\"df-c9c1ac05-a6fb-4168-a9a9-36e713691a7e\">\n",
              "    <div class=\"colab-df-container\">\n",
              "      <div>\n",
              "<style scoped>\n",
              "    .dataframe tbody tr th:only-of-type {\n",
              "        vertical-align: middle;\n",
              "    }\n",
              "\n",
              "    .dataframe tbody tr th {\n",
              "        vertical-align: top;\n",
              "    }\n",
              "\n",
              "    .dataframe thead th {\n",
              "        text-align: right;\n",
              "    }\n",
              "</style>\n",
              "<table border=\"1\" class=\"dataframe\">\n",
              "  <thead>\n",
              "    <tr style=\"text-align: right;\">\n",
              "      <th></th>\n",
              "      <th>number_of_nulls</th>\n",
              "      <th>percentage</th>\n",
              "    </tr>\n",
              "  </thead>\n",
              "  <tbody>\n",
              "    <tr>\n",
              "      <th>year</th>\n",
              "      <td>0</td>\n",
              "      <td>0.0</td>\n",
              "    </tr>\n",
              "    <tr>\n",
              "      <th>engine_l</th>\n",
              "      <td>0</td>\n",
              "      <td>0.0</td>\n",
              "    </tr>\n",
              "    <tr>\n",
              "      <th>transmission</th>\n",
              "      <td>0</td>\n",
              "      <td>0.0</td>\n",
              "    </tr>\n",
              "    <tr>\n",
              "      <th>mileage</th>\n",
              "      <td>0</td>\n",
              "      <td>0.0</td>\n",
              "    </tr>\n",
              "    <tr>\n",
              "      <th>body</th>\n",
              "      <td>0</td>\n",
              "      <td>0.0</td>\n",
              "    </tr>\n",
              "    <tr>\n",
              "      <th>fuel</th>\n",
              "      <td>0</td>\n",
              "      <td>0.0</td>\n",
              "    </tr>\n",
              "  </tbody>\n",
              "</table>\n",
              "</div>\n",
              "      <button class=\"colab-df-convert\" onclick=\"convertToInteractive('df-c9c1ac05-a6fb-4168-a9a9-36e713691a7e')\"\n",
              "              title=\"Convert this dataframe to an interactive table.\"\n",
              "              style=\"display:none;\">\n",
              "        \n",
              "  <svg xmlns=\"http://www.w3.org/2000/svg\" height=\"24px\"viewBox=\"0 0 24 24\"\n",
              "       width=\"24px\">\n",
              "    <path d=\"M0 0h24v24H0V0z\" fill=\"none\"/>\n",
              "    <path d=\"M18.56 5.44l.94 2.06.94-2.06 2.06-.94-2.06-.94-.94-2.06-.94 2.06-2.06.94zm-11 1L8.5 8.5l.94-2.06 2.06-.94-2.06-.94L8.5 2.5l-.94 2.06-2.06.94zm10 10l.94 2.06.94-2.06 2.06-.94-2.06-.94-.94-2.06-.94 2.06-2.06.94z\"/><path d=\"M17.41 7.96l-1.37-1.37c-.4-.4-.92-.59-1.43-.59-.52 0-1.04.2-1.43.59L10.3 9.45l-7.72 7.72c-.78.78-.78 2.05 0 2.83L4 21.41c.39.39.9.59 1.41.59.51 0 1.02-.2 1.41-.59l7.78-7.78 2.81-2.81c.8-.78.8-2.07 0-2.86zM5.41 20L4 18.59l7.72-7.72 1.47 1.35L5.41 20z\"/>\n",
              "  </svg>\n",
              "      </button>\n",
              "      \n",
              "  <style>\n",
              "    .colab-df-container {\n",
              "      display:flex;\n",
              "      flex-wrap:wrap;\n",
              "      gap: 12px;\n",
              "    }\n",
              "\n",
              "    .colab-df-convert {\n",
              "      background-color: #E8F0FE;\n",
              "      border: none;\n",
              "      border-radius: 50%;\n",
              "      cursor: pointer;\n",
              "      display: none;\n",
              "      fill: #1967D2;\n",
              "      height: 32px;\n",
              "      padding: 0 0 0 0;\n",
              "      width: 32px;\n",
              "    }\n",
              "\n",
              "    .colab-df-convert:hover {\n",
              "      background-color: #E2EBFA;\n",
              "      box-shadow: 0px 1px 2px rgba(60, 64, 67, 0.3), 0px 1px 3px 1px rgba(60, 64, 67, 0.15);\n",
              "      fill: #174EA6;\n",
              "    }\n",
              "\n",
              "    [theme=dark] .colab-df-convert {\n",
              "      background-color: #3B4455;\n",
              "      fill: #D2E3FC;\n",
              "    }\n",
              "\n",
              "    [theme=dark] .colab-df-convert:hover {\n",
              "      background-color: #434B5C;\n",
              "      box-shadow: 0px 1px 3px 1px rgba(0, 0, 0, 0.15);\n",
              "      filter: drop-shadow(0px 1px 2px rgba(0, 0, 0, 0.3));\n",
              "      fill: #FFFFFF;\n",
              "    }\n",
              "  </style>\n",
              "\n",
              "      <script>\n",
              "        const buttonEl =\n",
              "          document.querySelector('#df-c9c1ac05-a6fb-4168-a9a9-36e713691a7e button.colab-df-convert');\n",
              "        buttonEl.style.display =\n",
              "          google.colab.kernel.accessAllowed ? 'block' : 'none';\n",
              "\n",
              "        async function convertToInteractive(key) {\n",
              "          const element = document.querySelector('#df-c9c1ac05-a6fb-4168-a9a9-36e713691a7e');\n",
              "          const dataTable =\n",
              "            await google.colab.kernel.invokeFunction('convertToInteractive',\n",
              "                                                     [key], {});\n",
              "          if (!dataTable) return;\n",
              "\n",
              "          const docLinkHtml = 'Like what you see? Visit the ' +\n",
              "            '<a target=\"_blank\" href=https://colab.research.google.com/notebooks/data_table.ipynb>data table notebook</a>'\n",
              "            + ' to learn more about interactive tables.';\n",
              "          element.innerHTML = '';\n",
              "          dataTable['output_type'] = 'display_data';\n",
              "          await google.colab.output.renderOutput(dataTable, element);\n",
              "          const docLink = document.createElement('div');\n",
              "          docLink.innerHTML = docLinkHtml;\n",
              "          element.appendChild(docLink);\n",
              "        }\n",
              "      </script>\n",
              "    </div>\n",
              "  </div>\n",
              "  "
            ]
          },
          "metadata": {},
          "execution_count": 44
        }
      ]
    },
    {
      "cell_type": "code",
      "source": [
        "# Checking the new number of rows\n",
        "\n",
        "cars.shape[0]"
      ],
      "metadata": {
        "colab": {
          "base_uri": "https://localhost:8080/"
        },
        "id": "nDibxxDxkeru",
        "outputId": "876cbbb5-8c28-4f4d-9379-c8079c087bb2"
      },
      "execution_count": 45,
      "outputs": [
        {
          "output_type": "execute_result",
          "data": {
            "text/plain": [
              "8332"
            ]
          },
          "metadata": {},
          "execution_count": 45
        }
      ]
    },
    {
      "cell_type": "code",
      "source": [
        "# Nulls in ULEZ likely indicate lack of ULEZ - decision: fill nulls with 'NOT-ULEZ'\n",
        "\n",
        "cars['ULEZ'].unique()"
      ],
      "metadata": {
        "colab": {
          "base_uri": "https://localhost:8080/"
        },
        "id": "GLcco7eAkg0e",
        "outputId": "68071065-5c51-42f9-dd87-c6f4e3496ec2"
      },
      "execution_count": 46,
      "outputs": [
        {
          "output_type": "execute_result",
          "data": {
            "text/plain": [
              "array([nan, 'ULEZ'], dtype=object)"
            ]
          },
          "metadata": {},
          "execution_count": 46
        }
      ]
    },
    {
      "cell_type": "code",
      "source": [
        "# Changing ULEZ nulls to NOT-ULEZ\n",
        "\n",
        "# changing ULEZ from object to category\n",
        "cars['ULEZ'] = cars['ULEZ'].astype('category')\n",
        "# setting the NOT-ULEZ category\n",
        "cars['ULEZ'] = cars['ULEZ'].cat.add_categories('NOT-ULEZ')\n",
        "#filling the nulls\n",
        "cars['ULEZ'].fillna(\n",
        "    value='NOT-ULEZ',\n",
        "    method=None,\n",
        "    inplace=True\n",
        ")\n",
        "\n",
        "# check nulls\n",
        "print(null_values(cars[['ULEZ']]))\n",
        "print('Data type is: ', cars['ULEZ'].dtypes)\n",
        "print('Unique elements are: ', cars['ULEZ'].unique())"
      ],
      "metadata": {
        "colab": {
          "base_uri": "https://localhost:8080/"
        },
        "id": "9s-J2CZskjjO",
        "outputId": "433c3f86-e283-402d-afec-9ceb2a9cfad9"
      },
      "execution_count": 47,
      "outputs": [
        {
          "output_type": "stream",
          "name": "stdout",
          "text": [
            "      number_of_nulls  percentage\n",
            "ULEZ                0         0.0\n",
            "Data type is:  category\n",
            "Unique elements are:  ['NOT-ULEZ', 'ULEZ']\n",
            "Categories (2, object): ['ULEZ', 'NOT-ULEZ']\n"
          ]
        }
      ]
    },
    {
      "cell_type": "code",
      "source": [
        "#Filling the BHP nulls with the mean BHP value for the respective model\n",
        "\n",
        "#empty list for appending models\n",
        "fill_bhp = []\n",
        "\n",
        "#loop for extracting unique car model names\n",
        "for model in cars['car model'].unique():\n",
        "    #extract the rows that refer to a unique car model\n",
        "    model = cars[(cars['car model']==model)]\n",
        "\n",
        "    #create a copy of the dataframe to get around panadas caviats\n",
        "    model = model.copy()\n",
        "\n",
        "    #filling in the BHP nulls with the mean BHP value for the respective model\n",
        "    model['BHP'].fillna(value=model['BHP'].mean(), method=None, inplace=True)\n",
        "\n",
        "    #appending the dataframe to the list\n",
        "    fill_bhp.append(model)\n",
        "\n",
        "#concating fill_bhp with cars to fill in the BHP nulls in cars\n",
        "cars = pd.concat(fill_bhp, axis=0, ignore_index=True)\n",
        "    \n",
        "#Confirm changes\n",
        "null_values(cars[['BHP']])"
      ],
      "metadata": {
        "colab": {
          "base_uri": "https://localhost:8080/",
          "height": 81
        },
        "id": "U8nDhUrZklvu",
        "outputId": "f275e082-9a78-4a03-c61c-7df816c586eb"
      },
      "execution_count": 48,
      "outputs": [
        {
          "output_type": "execute_result",
          "data": {
            "text/plain": [
              "     number_of_nulls  percentage\n",
              "BHP                0         0.0"
            ],
            "text/html": [
              "\n",
              "  <div id=\"df-2440915d-6322-448c-a3d1-d0f5e94a84b7\">\n",
              "    <div class=\"colab-df-container\">\n",
              "      <div>\n",
              "<style scoped>\n",
              "    .dataframe tbody tr th:only-of-type {\n",
              "        vertical-align: middle;\n",
              "    }\n",
              "\n",
              "    .dataframe tbody tr th {\n",
              "        vertical-align: top;\n",
              "    }\n",
              "\n",
              "    .dataframe thead th {\n",
              "        text-align: right;\n",
              "    }\n",
              "</style>\n",
              "<table border=\"1\" class=\"dataframe\">\n",
              "  <thead>\n",
              "    <tr style=\"text-align: right;\">\n",
              "      <th></th>\n",
              "      <th>number_of_nulls</th>\n",
              "      <th>percentage</th>\n",
              "    </tr>\n",
              "  </thead>\n",
              "  <tbody>\n",
              "    <tr>\n",
              "      <th>BHP</th>\n",
              "      <td>0</td>\n",
              "      <td>0.0</td>\n",
              "    </tr>\n",
              "  </tbody>\n",
              "</table>\n",
              "</div>\n",
              "      <button class=\"colab-df-convert\" onclick=\"convertToInteractive('df-2440915d-6322-448c-a3d1-d0f5e94a84b7')\"\n",
              "              title=\"Convert this dataframe to an interactive table.\"\n",
              "              style=\"display:none;\">\n",
              "        \n",
              "  <svg xmlns=\"http://www.w3.org/2000/svg\" height=\"24px\"viewBox=\"0 0 24 24\"\n",
              "       width=\"24px\">\n",
              "    <path d=\"M0 0h24v24H0V0z\" fill=\"none\"/>\n",
              "    <path d=\"M18.56 5.44l.94 2.06.94-2.06 2.06-.94-2.06-.94-.94-2.06-.94 2.06-2.06.94zm-11 1L8.5 8.5l.94-2.06 2.06-.94-2.06-.94L8.5 2.5l-.94 2.06-2.06.94zm10 10l.94 2.06.94-2.06 2.06-.94-2.06-.94-.94-2.06-.94 2.06-2.06.94z\"/><path d=\"M17.41 7.96l-1.37-1.37c-.4-.4-.92-.59-1.43-.59-.52 0-1.04.2-1.43.59L10.3 9.45l-7.72 7.72c-.78.78-.78 2.05 0 2.83L4 21.41c.39.39.9.59 1.41.59.51 0 1.02-.2 1.41-.59l7.78-7.78 2.81-2.81c.8-.78.8-2.07 0-2.86zM5.41 20L4 18.59l7.72-7.72 1.47 1.35L5.41 20z\"/>\n",
              "  </svg>\n",
              "      </button>\n",
              "      \n",
              "  <style>\n",
              "    .colab-df-container {\n",
              "      display:flex;\n",
              "      flex-wrap:wrap;\n",
              "      gap: 12px;\n",
              "    }\n",
              "\n",
              "    .colab-df-convert {\n",
              "      background-color: #E8F0FE;\n",
              "      border: none;\n",
              "      border-radius: 50%;\n",
              "      cursor: pointer;\n",
              "      display: none;\n",
              "      fill: #1967D2;\n",
              "      height: 32px;\n",
              "      padding: 0 0 0 0;\n",
              "      width: 32px;\n",
              "    }\n",
              "\n",
              "    .colab-df-convert:hover {\n",
              "      background-color: #E2EBFA;\n",
              "      box-shadow: 0px 1px 2px rgba(60, 64, 67, 0.3), 0px 1px 3px 1px rgba(60, 64, 67, 0.15);\n",
              "      fill: #174EA6;\n",
              "    }\n",
              "\n",
              "    [theme=dark] .colab-df-convert {\n",
              "      background-color: #3B4455;\n",
              "      fill: #D2E3FC;\n",
              "    }\n",
              "\n",
              "    [theme=dark] .colab-df-convert:hover {\n",
              "      background-color: #434B5C;\n",
              "      box-shadow: 0px 1px 3px 1px rgba(0, 0, 0, 0.15);\n",
              "      filter: drop-shadow(0px 1px 2px rgba(0, 0, 0, 0.3));\n",
              "      fill: #FFFFFF;\n",
              "    }\n",
              "  </style>\n",
              "\n",
              "      <script>\n",
              "        const buttonEl =\n",
              "          document.querySelector('#df-2440915d-6322-448c-a3d1-d0f5e94a84b7 button.colab-df-convert');\n",
              "        buttonEl.style.display =\n",
              "          google.colab.kernel.accessAllowed ? 'block' : 'none';\n",
              "\n",
              "        async function convertToInteractive(key) {\n",
              "          const element = document.querySelector('#df-2440915d-6322-448c-a3d1-d0f5e94a84b7');\n",
              "          const dataTable =\n",
              "            await google.colab.kernel.invokeFunction('convertToInteractive',\n",
              "                                                     [key], {});\n",
              "          if (!dataTable) return;\n",
              "\n",
              "          const docLinkHtml = 'Like what you see? Visit the ' +\n",
              "            '<a target=\"_blank\" href=https://colab.research.google.com/notebooks/data_table.ipynb>data table notebook</a>'\n",
              "            + ' to learn more about interactive tables.';\n",
              "          element.innerHTML = '';\n",
              "          dataTable['output_type'] = 'display_data';\n",
              "          await google.colab.output.renderOutput(dataTable, element);\n",
              "          const docLink = document.createElement('div');\n",
              "          docLink.innerHTML = docLinkHtml;\n",
              "          element.appendChild(docLink);\n",
              "        }\n",
              "      </script>\n",
              "    </div>\n",
              "  </div>\n",
              "  "
            ]
          },
          "metadata": {},
          "execution_count": 48
        }
      ]
    },
    {
      "cell_type": "code",
      "source": [
        "# Separating the \"year\" part of the year column from the registration part\n",
        "\n",
        "#Exctract the year portion from the year column (without the registration year)\n",
        "year_split = cars[\"year\"].apply(lambda x: x.split(' ')[0])\n",
        "\n",
        "#Change the name of the old year column and drop the column\n",
        "cars.rename(columns = {'year':'year_old'}, inplace = True)\n",
        "cars.drop(columns='year_old', inplace=True)\n",
        "\n",
        "#Insert the new year column (containg the year without the registration year)\n",
        "cars.insert(3, \"year\", year_split)\n",
        "\n",
        "#Confirm changes\n",
        "cars.head()"
      ],
      "metadata": {
        "colab": {
          "base_uri": "https://localhost:8080/",
          "height": 206
        },
        "id": "tpknukkVko8p",
        "outputId": "90a16792-83d1-4ced-aeee-0bd859b1fb90"
      },
      "execution_count": 49,
      "outputs": [
        {
          "output_type": "execute_result",
          "data": {
            "text/plain": [
              "      car model  price_gbp   mileage  year         BHP transmission    fuel  \\\n",
              "0  BMW 5 SERIES     2760.0  183000.0  2005  187.666667       Manual  Diesel   \n",
              "1  BMW 5 SERIES     4480.0  129000.0  2005  187.666667    Automatic  Diesel   \n",
              "2  BMW 5 SERIES     2495.0   34000.0  2005  187.666667    Automatic  Petrol   \n",
              "3  BMW 5 SERIES     2995.0  133000.0  2005  187.666667    Automatic  Diesel   \n",
              "4  BMW 5 SERIES     1990.0  186000.0  2005  187.666667       Manual  Diesel   \n",
              "\n",
              "   owners    body      ULEZ  engine_l  \n",
              "0     3.0  Saloon  NOT-ULEZ       3.0  \n",
              "1     NaN  Saloon  NOT-ULEZ       3.0  \n",
              "2     2.0  Saloon  NOT-ULEZ       3.0  \n",
              "3     3.0  Saloon  NOT-ULEZ       2.5  \n",
              "4     NaN  Estate  NOT-ULEZ       2.0  "
            ],
            "text/html": [
              "\n",
              "  <div id=\"df-bbe7ba7d-ce10-46ba-bbcb-d0b6de11a182\">\n",
              "    <div class=\"colab-df-container\">\n",
              "      <div>\n",
              "<style scoped>\n",
              "    .dataframe tbody tr th:only-of-type {\n",
              "        vertical-align: middle;\n",
              "    }\n",
              "\n",
              "    .dataframe tbody tr th {\n",
              "        vertical-align: top;\n",
              "    }\n",
              "\n",
              "    .dataframe thead th {\n",
              "        text-align: right;\n",
              "    }\n",
              "</style>\n",
              "<table border=\"1\" class=\"dataframe\">\n",
              "  <thead>\n",
              "    <tr style=\"text-align: right;\">\n",
              "      <th></th>\n",
              "      <th>car model</th>\n",
              "      <th>price_gbp</th>\n",
              "      <th>mileage</th>\n",
              "      <th>year</th>\n",
              "      <th>BHP</th>\n",
              "      <th>transmission</th>\n",
              "      <th>fuel</th>\n",
              "      <th>owners</th>\n",
              "      <th>body</th>\n",
              "      <th>ULEZ</th>\n",
              "      <th>engine_l</th>\n",
              "    </tr>\n",
              "  </thead>\n",
              "  <tbody>\n",
              "    <tr>\n",
              "      <th>0</th>\n",
              "      <td>BMW 5 SERIES</td>\n",
              "      <td>2760.0</td>\n",
              "      <td>183000.0</td>\n",
              "      <td>2005</td>\n",
              "      <td>187.666667</td>\n",
              "      <td>Manual</td>\n",
              "      <td>Diesel</td>\n",
              "      <td>3.0</td>\n",
              "      <td>Saloon</td>\n",
              "      <td>NOT-ULEZ</td>\n",
              "      <td>3.0</td>\n",
              "    </tr>\n",
              "    <tr>\n",
              "      <th>1</th>\n",
              "      <td>BMW 5 SERIES</td>\n",
              "      <td>4480.0</td>\n",
              "      <td>129000.0</td>\n",
              "      <td>2005</td>\n",
              "      <td>187.666667</td>\n",
              "      <td>Automatic</td>\n",
              "      <td>Diesel</td>\n",
              "      <td>NaN</td>\n",
              "      <td>Saloon</td>\n",
              "      <td>NOT-ULEZ</td>\n",
              "      <td>3.0</td>\n",
              "    </tr>\n",
              "    <tr>\n",
              "      <th>2</th>\n",
              "      <td>BMW 5 SERIES</td>\n",
              "      <td>2495.0</td>\n",
              "      <td>34000.0</td>\n",
              "      <td>2005</td>\n",
              "      <td>187.666667</td>\n",
              "      <td>Automatic</td>\n",
              "      <td>Petrol</td>\n",
              "      <td>2.0</td>\n",
              "      <td>Saloon</td>\n",
              "      <td>NOT-ULEZ</td>\n",
              "      <td>3.0</td>\n",
              "    </tr>\n",
              "    <tr>\n",
              "      <th>3</th>\n",
              "      <td>BMW 5 SERIES</td>\n",
              "      <td>2995.0</td>\n",
              "      <td>133000.0</td>\n",
              "      <td>2005</td>\n",
              "      <td>187.666667</td>\n",
              "      <td>Automatic</td>\n",
              "      <td>Diesel</td>\n",
              "      <td>3.0</td>\n",
              "      <td>Saloon</td>\n",
              "      <td>NOT-ULEZ</td>\n",
              "      <td>2.5</td>\n",
              "    </tr>\n",
              "    <tr>\n",
              "      <th>4</th>\n",
              "      <td>BMW 5 SERIES</td>\n",
              "      <td>1990.0</td>\n",
              "      <td>186000.0</td>\n",
              "      <td>2005</td>\n",
              "      <td>187.666667</td>\n",
              "      <td>Manual</td>\n",
              "      <td>Diesel</td>\n",
              "      <td>NaN</td>\n",
              "      <td>Estate</td>\n",
              "      <td>NOT-ULEZ</td>\n",
              "      <td>2.0</td>\n",
              "    </tr>\n",
              "  </tbody>\n",
              "</table>\n",
              "</div>\n",
              "      <button class=\"colab-df-convert\" onclick=\"convertToInteractive('df-bbe7ba7d-ce10-46ba-bbcb-d0b6de11a182')\"\n",
              "              title=\"Convert this dataframe to an interactive table.\"\n",
              "              style=\"display:none;\">\n",
              "        \n",
              "  <svg xmlns=\"http://www.w3.org/2000/svg\" height=\"24px\"viewBox=\"0 0 24 24\"\n",
              "       width=\"24px\">\n",
              "    <path d=\"M0 0h24v24H0V0z\" fill=\"none\"/>\n",
              "    <path d=\"M18.56 5.44l.94 2.06.94-2.06 2.06-.94-2.06-.94-.94-2.06-.94 2.06-2.06.94zm-11 1L8.5 8.5l.94-2.06 2.06-.94-2.06-.94L8.5 2.5l-.94 2.06-2.06.94zm10 10l.94 2.06.94-2.06 2.06-.94-2.06-.94-.94-2.06-.94 2.06-2.06.94z\"/><path d=\"M17.41 7.96l-1.37-1.37c-.4-.4-.92-.59-1.43-.59-.52 0-1.04.2-1.43.59L10.3 9.45l-7.72 7.72c-.78.78-.78 2.05 0 2.83L4 21.41c.39.39.9.59 1.41.59.51 0 1.02-.2 1.41-.59l7.78-7.78 2.81-2.81c.8-.78.8-2.07 0-2.86zM5.41 20L4 18.59l7.72-7.72 1.47 1.35L5.41 20z\"/>\n",
              "  </svg>\n",
              "      </button>\n",
              "      \n",
              "  <style>\n",
              "    .colab-df-container {\n",
              "      display:flex;\n",
              "      flex-wrap:wrap;\n",
              "      gap: 12px;\n",
              "    }\n",
              "\n",
              "    .colab-df-convert {\n",
              "      background-color: #E8F0FE;\n",
              "      border: none;\n",
              "      border-radius: 50%;\n",
              "      cursor: pointer;\n",
              "      display: none;\n",
              "      fill: #1967D2;\n",
              "      height: 32px;\n",
              "      padding: 0 0 0 0;\n",
              "      width: 32px;\n",
              "    }\n",
              "\n",
              "    .colab-df-convert:hover {\n",
              "      background-color: #E2EBFA;\n",
              "      box-shadow: 0px 1px 2px rgba(60, 64, 67, 0.3), 0px 1px 3px 1px rgba(60, 64, 67, 0.15);\n",
              "      fill: #174EA6;\n",
              "    }\n",
              "\n",
              "    [theme=dark] .colab-df-convert {\n",
              "      background-color: #3B4455;\n",
              "      fill: #D2E3FC;\n",
              "    }\n",
              "\n",
              "    [theme=dark] .colab-df-convert:hover {\n",
              "      background-color: #434B5C;\n",
              "      box-shadow: 0px 1px 3px 1px rgba(0, 0, 0, 0.15);\n",
              "      filter: drop-shadow(0px 1px 2px rgba(0, 0, 0, 0.3));\n",
              "      fill: #FFFFFF;\n",
              "    }\n",
              "  </style>\n",
              "\n",
              "      <script>\n",
              "        const buttonEl =\n",
              "          document.querySelector('#df-bbe7ba7d-ce10-46ba-bbcb-d0b6de11a182 button.colab-df-convert');\n",
              "        buttonEl.style.display =\n",
              "          google.colab.kernel.accessAllowed ? 'block' : 'none';\n",
              "\n",
              "        async function convertToInteractive(key) {\n",
              "          const element = document.querySelector('#df-bbe7ba7d-ce10-46ba-bbcb-d0b6de11a182');\n",
              "          const dataTable =\n",
              "            await google.colab.kernel.invokeFunction('convertToInteractive',\n",
              "                                                     [key], {});\n",
              "          if (!dataTable) return;\n",
              "\n",
              "          const docLinkHtml = 'Like what you see? Visit the ' +\n",
              "            '<a target=\"_blank\" href=https://colab.research.google.com/notebooks/data_table.ipynb>data table notebook</a>'\n",
              "            + ' to learn more about interactive tables.';\n",
              "          element.innerHTML = '';\n",
              "          dataTable['output_type'] = 'display_data';\n",
              "          await google.colab.output.renderOutput(dataTable, element);\n",
              "          const docLink = document.createElement('div');\n",
              "          docLink.innerHTML = docLinkHtml;\n",
              "          element.appendChild(docLink);\n",
              "        }\n",
              "      </script>\n",
              "    </div>\n",
              "  </div>\n",
              "  "
            ]
          },
          "metadata": {},
          "execution_count": 49
        }
      ]
    },
    {
      "cell_type": "code",
      "source": [
        "# Changing the data type of year\n",
        "cars['year'] = cars['year'].astype(int)\n",
        "\n",
        "#Confirm changes\n",
        "cars['year'].dtypes"
      ],
      "metadata": {
        "colab": {
          "base_uri": "https://localhost:8080/"
        },
        "id": "bHiUPUHgkr9N",
        "outputId": "5ec08a45-882e-4c04-d9bc-ed111cbc6b74"
      },
      "execution_count": 50,
      "outputs": [
        {
          "output_type": "execute_result",
          "data": {
            "text/plain": [
              "dtype('int64')"
            ]
          },
          "metadata": {},
          "execution_count": 50
        }
      ]
    },
    {
      "cell_type": "code",
      "source": [
        "#Filling nulls in owners with 0 because these likely indicates no previous owners\n",
        "cars['owners'].fillna(0, inplace=True)\n",
        "\n",
        "#Confirm that all nulls have been sorted\n",
        "null_values(cars)"
      ],
      "metadata": {
        "colab": {
          "base_uri": "https://localhost:8080/",
          "height": 394
        },
        "id": "6764cVkW1p7Z",
        "outputId": "4916dced-67dd-48ea-b35b-040e84fe9b16"
      },
      "execution_count": 51,
      "outputs": [
        {
          "output_type": "execute_result",
          "data": {
            "text/plain": [
              "              number_of_nulls  percentage\n",
              "car model                   0         0.0\n",
              "price_gbp                   0         0.0\n",
              "mileage                     0         0.0\n",
              "year                        0         0.0\n",
              "BHP                         0         0.0\n",
              "transmission                0         0.0\n",
              "fuel                        0         0.0\n",
              "owners                      0         0.0\n",
              "body                        0         0.0\n",
              "ULEZ                        0         0.0\n",
              "engine_l                    0         0.0"
            ],
            "text/html": [
              "\n",
              "  <div id=\"df-b25b098f-c349-497b-a340-48a43dfab127\">\n",
              "    <div class=\"colab-df-container\">\n",
              "      <div>\n",
              "<style scoped>\n",
              "    .dataframe tbody tr th:only-of-type {\n",
              "        vertical-align: middle;\n",
              "    }\n",
              "\n",
              "    .dataframe tbody tr th {\n",
              "        vertical-align: top;\n",
              "    }\n",
              "\n",
              "    .dataframe thead th {\n",
              "        text-align: right;\n",
              "    }\n",
              "</style>\n",
              "<table border=\"1\" class=\"dataframe\">\n",
              "  <thead>\n",
              "    <tr style=\"text-align: right;\">\n",
              "      <th></th>\n",
              "      <th>number_of_nulls</th>\n",
              "      <th>percentage</th>\n",
              "    </tr>\n",
              "  </thead>\n",
              "  <tbody>\n",
              "    <tr>\n",
              "      <th>car model</th>\n",
              "      <td>0</td>\n",
              "      <td>0.0</td>\n",
              "    </tr>\n",
              "    <tr>\n",
              "      <th>price_gbp</th>\n",
              "      <td>0</td>\n",
              "      <td>0.0</td>\n",
              "    </tr>\n",
              "    <tr>\n",
              "      <th>mileage</th>\n",
              "      <td>0</td>\n",
              "      <td>0.0</td>\n",
              "    </tr>\n",
              "    <tr>\n",
              "      <th>year</th>\n",
              "      <td>0</td>\n",
              "      <td>0.0</td>\n",
              "    </tr>\n",
              "    <tr>\n",
              "      <th>BHP</th>\n",
              "      <td>0</td>\n",
              "      <td>0.0</td>\n",
              "    </tr>\n",
              "    <tr>\n",
              "      <th>transmission</th>\n",
              "      <td>0</td>\n",
              "      <td>0.0</td>\n",
              "    </tr>\n",
              "    <tr>\n",
              "      <th>fuel</th>\n",
              "      <td>0</td>\n",
              "      <td>0.0</td>\n",
              "    </tr>\n",
              "    <tr>\n",
              "      <th>owners</th>\n",
              "      <td>0</td>\n",
              "      <td>0.0</td>\n",
              "    </tr>\n",
              "    <tr>\n",
              "      <th>body</th>\n",
              "      <td>0</td>\n",
              "      <td>0.0</td>\n",
              "    </tr>\n",
              "    <tr>\n",
              "      <th>ULEZ</th>\n",
              "      <td>0</td>\n",
              "      <td>0.0</td>\n",
              "    </tr>\n",
              "    <tr>\n",
              "      <th>engine_l</th>\n",
              "      <td>0</td>\n",
              "      <td>0.0</td>\n",
              "    </tr>\n",
              "  </tbody>\n",
              "</table>\n",
              "</div>\n",
              "      <button class=\"colab-df-convert\" onclick=\"convertToInteractive('df-b25b098f-c349-497b-a340-48a43dfab127')\"\n",
              "              title=\"Convert this dataframe to an interactive table.\"\n",
              "              style=\"display:none;\">\n",
              "        \n",
              "  <svg xmlns=\"http://www.w3.org/2000/svg\" height=\"24px\"viewBox=\"0 0 24 24\"\n",
              "       width=\"24px\">\n",
              "    <path d=\"M0 0h24v24H0V0z\" fill=\"none\"/>\n",
              "    <path d=\"M18.56 5.44l.94 2.06.94-2.06 2.06-.94-2.06-.94-.94-2.06-.94 2.06-2.06.94zm-11 1L8.5 8.5l.94-2.06 2.06-.94-2.06-.94L8.5 2.5l-.94 2.06-2.06.94zm10 10l.94 2.06.94-2.06 2.06-.94-2.06-.94-.94-2.06-.94 2.06-2.06.94z\"/><path d=\"M17.41 7.96l-1.37-1.37c-.4-.4-.92-.59-1.43-.59-.52 0-1.04.2-1.43.59L10.3 9.45l-7.72 7.72c-.78.78-.78 2.05 0 2.83L4 21.41c.39.39.9.59 1.41.59.51 0 1.02-.2 1.41-.59l7.78-7.78 2.81-2.81c.8-.78.8-2.07 0-2.86zM5.41 20L4 18.59l7.72-7.72 1.47 1.35L5.41 20z\"/>\n",
              "  </svg>\n",
              "      </button>\n",
              "      \n",
              "  <style>\n",
              "    .colab-df-container {\n",
              "      display:flex;\n",
              "      flex-wrap:wrap;\n",
              "      gap: 12px;\n",
              "    }\n",
              "\n",
              "    .colab-df-convert {\n",
              "      background-color: #E8F0FE;\n",
              "      border: none;\n",
              "      border-radius: 50%;\n",
              "      cursor: pointer;\n",
              "      display: none;\n",
              "      fill: #1967D2;\n",
              "      height: 32px;\n",
              "      padding: 0 0 0 0;\n",
              "      width: 32px;\n",
              "    }\n",
              "\n",
              "    .colab-df-convert:hover {\n",
              "      background-color: #E2EBFA;\n",
              "      box-shadow: 0px 1px 2px rgba(60, 64, 67, 0.3), 0px 1px 3px 1px rgba(60, 64, 67, 0.15);\n",
              "      fill: #174EA6;\n",
              "    }\n",
              "\n",
              "    [theme=dark] .colab-df-convert {\n",
              "      background-color: #3B4455;\n",
              "      fill: #D2E3FC;\n",
              "    }\n",
              "\n",
              "    [theme=dark] .colab-df-convert:hover {\n",
              "      background-color: #434B5C;\n",
              "      box-shadow: 0px 1px 3px 1px rgba(0, 0, 0, 0.15);\n",
              "      filter: drop-shadow(0px 1px 2px rgba(0, 0, 0, 0.3));\n",
              "      fill: #FFFFFF;\n",
              "    }\n",
              "  </style>\n",
              "\n",
              "      <script>\n",
              "        const buttonEl =\n",
              "          document.querySelector('#df-b25b098f-c349-497b-a340-48a43dfab127 button.colab-df-convert');\n",
              "        buttonEl.style.display =\n",
              "          google.colab.kernel.accessAllowed ? 'block' : 'none';\n",
              "\n",
              "        async function convertToInteractive(key) {\n",
              "          const element = document.querySelector('#df-b25b098f-c349-497b-a340-48a43dfab127');\n",
              "          const dataTable =\n",
              "            await google.colab.kernel.invokeFunction('convertToInteractive',\n",
              "                                                     [key], {});\n",
              "          if (!dataTable) return;\n",
              "\n",
              "          const docLinkHtml = 'Like what you see? Visit the ' +\n",
              "            '<a target=\"_blank\" href=https://colab.research.google.com/notebooks/data_table.ipynb>data table notebook</a>'\n",
              "            + ' to learn more about interactive tables.';\n",
              "          element.innerHTML = '';\n",
              "          dataTable['output_type'] = 'display_data';\n",
              "          await google.colab.output.renderOutput(dataTable, element);\n",
              "          const docLink = document.createElement('div');\n",
              "          docLink.innerHTML = docLinkHtml;\n",
              "          element.appendChild(docLink);\n",
              "        }\n",
              "      </script>\n",
              "    </div>\n",
              "  </div>\n",
              "  "
            ]
          },
          "metadata": {},
          "execution_count": 51
        }
      ]
    },
    {
      "cell_type": "code",
      "source": [
        "# Saving the data\n",
        "\n",
        "cars.to_csv(\"Cleaned_cars.csv\", index=False)"
      ],
      "metadata": {
        "id": "-ZOboN_NkyoZ"
      },
      "execution_count": 52,
      "outputs": []
    },
    {
      "cell_type": "markdown",
      "source": [
        "**Correlation**"
      ],
      "metadata": {
        "id": "Q4q8Dhh9MM_L"
      }
    },
    {
      "cell_type": "code",
      "source": [
        "#Correlation - no correlation above 0.9\n",
        "\n",
        "sns.heatmap(cars.corr(),\n",
        "            annot=True,\n",
        "            vmin=-1,\n",
        "            vmax=1,\n",
        "            robust=False,\n",
        "            center=0\n",
        "            )\n",
        "plt.show()"
      ],
      "metadata": {
        "colab": {
          "base_uri": "https://localhost:8080/",
          "height": 270
        },
        "id": "iBKVdUthMMK0",
        "outputId": "083dfcff-be4f-4a2e-866d-673fc7810afd"
      },
      "execution_count": 53,
      "outputs": [
        {
          "output_type": "display_data",
          "data": {
            "text/plain": [
              "<Figure size 432x288 with 2 Axes>"
            ],
            "image/png": "[encoded data removed]"
          },
          "metadata": {
            "needs_background": "light"
          }
        }
      ]
    },
    {
      "cell_type": "markdown",
      "source": [
        "**Data modelling: linear regression**"
      ],
      "metadata": {
        "id": "SZ67vhZEwz1e"
      }
    },
    {
      "cell_type": "markdown",
      "source": [
        "Model 1"
      ],
      "metadata": {
        "id": "tzEYeFSGRN4J"
      }
    },
    {
      "cell_type": "code",
      "source": [
        "# Creating a list of indepedent variables\n",
        "# Independent variables are all variables besides the price_gbp\n",
        "\n",
        "#Create a list of all cars columns\n",
        "feature_train = list(cars.columns)\n",
        "\n",
        "#Remove the depedendent variable (price_gbp)\n",
        "feature_train.remove('price_gbp')"
      ],
      "metadata": {
        "id": "o9WzUsSQwrmr"
      },
      "execution_count": 54,
      "outputs": []
    },
    {
      "cell_type": "code",
      "source": [
        "#Creating the X variable which features only the indepdent variables\n",
        "X = cars[feature_train]\n",
        "\n",
        "#Creating the y variable which features only the depedent variable\n",
        "y = cars['price_gbp']"
      ],
      "metadata": {
        "id": "TWd583gaw6mI"
      },
      "execution_count": 55,
      "outputs": []
    },
    {
      "cell_type": "code",
      "source": [
        "# Creating 4 portions of data which will be used for fitting and predicting values.\n",
        "# The test size as '0.2' meaning 80% of data will be used to create the model and 20% will be used to 'test' the model\n",
        "# y_train and y_test is the dependent variable, in this case 'price_gbp'\n",
        "# Random state set to 45 to ensure reproducibility of results\n",
        "\n",
        "X_train, X_test, y_train, y_test = train_test_split(X, y, test_size = 0.2, random_state = 45)"
      ],
      "metadata": {
        "id": "RAltQxQLw89o"
      },
      "execution_count": 56,
      "outputs": []
    },
    {
      "cell_type": "code",
      "source": [
        "# Creating a function for scaling using the StandardScaler\n",
        "\n",
        "def scaling(scaled):\n",
        "    st_scaler = StandardScaler()\n",
        "    scaled = st_scaler.fit_transform(scaled)\n",
        "    return scaled"
      ],
      "metadata": {
        "id": "mLd0olSDw-66"
      },
      "execution_count": 57,
      "outputs": []
    },
    {
      "cell_type": "code",
      "source": [
        "cars.columns"
      ],
      "metadata": {
        "colab": {
          "base_uri": "https://localhost:8080/"
        },
        "id": "JXJuZHHuIpb0",
        "outputId": "3425ad7d-72a7-40f9-e84b-9e2765623ecd"
      },
      "execution_count": 58,
      "outputs": [
        {
          "output_type": "execute_result",
          "data": {
            "text/plain": [
              "Index(['car model', 'price_gbp', 'mileage', 'year', 'BHP', 'transmission',\n",
              "       'fuel', 'owners', 'body', 'ULEZ', 'engine_l'],\n",
              "      dtype='object')"
            ]
          },
          "metadata": {},
          "execution_count": 58
        }
      ]
    },
    {
      "cell_type": "code",
      "source": [
        "# Feature engineering 1\n",
        "# Scaling to normalize data for modeling and one hot encoding to allow using object/categorical variables in the model\n",
        "\n",
        "def feature_eng(inputed):\n",
        "    # Scaling the columns: 'BHP', 'mileage', 'owners' and 'engine_l'\n",
        "    inputed1 = inputed[[\"BHP\",\"mileage\",\"owners\",\"engine_l\", \"year\"]].copy()\n",
        "    inputed1['BHP'] = scaling(inputed[[\"BHP\"]])\n",
        "    inputed1['mileage'] = scaling(inputed[[\"mileage\"]])\n",
        "    inputed1[\"owners\"] = scaling(inputed[[\"owners\"]])\n",
        "    inputed1['engine_l'] = scaling(inputed[[\"engine_l\"]])\n",
        "    inputed1[\"year\"] = scaling(inputed[[\"year\"]])\n",
        "\n",
        "    # One hot encoding: 'year_old', 'car_model', 'transmission', 'fuel', 'body', 'ULEZ'\n",
        "    inputed2= pd.get_dummies(inputed[[\"car model\",\"transmission\",\"fuel\",\"body\",\"ULEZ\"]], columns = [\"car model\",\"transmission\",\"fuel\",\"body\",\"ULEZ\"], prefix = [\"car model\",\"transmission\",\"fuel\",\"body\",\"ULEZ\"], drop_first=True)\n",
        "     \n",
        "    #Join the scaled and one hot encoded data\n",
        "    inputed1 = inputed2.join(inputed1)\n",
        "\n",
        "    #add a constant\n",
        "    inputed1 = sm.add_constant(inputed1)\n",
        "\n",
        "    return inputed1"
      ],
      "metadata": {
        "id": "RYSG-_GYxCd-"
      },
      "execution_count": 59,
      "outputs": []
    },
    {
      "cell_type": "code",
      "source": [
        "# Feature engineering the train data\n",
        "\n",
        "X_train = feature_eng(X_train)\n",
        "\n",
        "#Fitting linear regression on the train data\n",
        "lin_reg = sm.OLS(y_train, X_train)\n",
        "results = lin_reg.fit()\n",
        "print(results.summary())"
      ],
      "metadata": {
        "colab": {
          "base_uri": "https://localhost:8080/"
        },
        "id": "tX2ivU4nLrlb",
        "outputId": "3a77dd3b-a6ed-4f63-dfa0-8bcddbb80262"
      },
      "execution_count": 60,
      "outputs": [
        {
          "output_type": "stream",
          "name": "stdout",
          "text": [
            "                            OLS Regression Results                            \n",
            "==============================================================================\n",
            "Dep. Variable:              price_gbp   R-squared:                       0.896\n",
            "Model:                            OLS   Adj. R-squared:                  0.896\n",
            "Method:                 Least Squares   F-statistic:                     3180.\n",
            "Date:                Fri, 28 Oct 2022   Prob (F-statistic):               0.00\n",
            "Time:                        11:35:54   Log-Likelihood:                -63256.\n",
            "No. Observations:                6665   AIC:                         1.265e+05\n",
            "Df Residuals:                    6646   BIC:                         1.267e+05\n",
            "Df Model:                          18                                         \n",
            "Covariance Type:            nonrobust                                         \n",
            "==============================================================================================\n",
            "                                 coef    std err          t      P>|t|      [0.025      0.975]\n",
            "----------------------------------------------------------------------------------------------\n",
            "const                       1.312e+04    175.422     74.804      0.000    1.28e+04    1.35e+04\n",
            "car model_BMW 3 SERIES      2854.8887    190.862     14.958      0.000    2480.737    3229.040\n",
            "car model_BMW 5 SERIES      6985.0842    524.385     13.321      0.000    5957.122    8013.046\n",
            "car model_BMW M3             1.89e+04    687.461     27.494      0.000    1.76e+04    2.02e+04\n",
            "transmission_Manual        -1256.3910    101.066    -12.431      0.000   -1454.513   -1058.269\n",
            "fuel_Diesel Hybrid          8055.7425    236.911     34.003      0.000    7591.321    8520.164\n",
            "fuel_Petrol                 2033.8447    105.814     19.221      0.000    1826.416    2241.274\n",
            "fuel_Petrol Hybrid          1.043e+04    389.048     26.808      0.000    9667.116    1.12e+04\n",
            "fuel_Petrol Plug-in Hybrid  5131.3749    177.220     28.955      0.000    4783.967    5478.783\n",
            "body_Coupe                   -37.8678    161.091     -0.235      0.814    -353.658     277.923\n",
            "body_Estate                 1001.3286    187.882      5.330      0.000     633.020    1369.637\n",
            "body_Hatchback             -4083.6175   3236.262     -1.262      0.207   -1.04e+04    2260.494\n",
            "body_Saloon                 -567.3920    173.547     -3.269      0.001    -907.599    -227.185\n",
            "ULEZ_NOT-ULEZ               1081.7838    126.912      8.524      0.000     832.995    1330.572\n",
            "BHP                            9.8076     47.919      0.205      0.838     -84.129     103.744\n",
            "mileage                    -3084.1925     62.815    -49.100      0.000   -3207.330   -2961.055\n",
            "owners                       -10.2153     43.236     -0.236      0.813     -94.973      74.542\n",
            "engine_l                    1934.4181     51.006     37.925      0.000    1834.429    2034.407\n",
            "year                        6204.9258     75.897     81.754      0.000    6056.142    6353.709\n",
            "==============================================================================\n",
            "Omnibus:                      480.263   Durbin-Watson:                   2.017\n",
            "Prob(Omnibus):                  0.000   Jarque-Bera (JB):              860.566\n",
            "Skew:                           0.528   Prob(JB):                    1.35e-187\n",
            "Kurtosis:                       4.408   Cond. No.                         129.\n",
            "==============================================================================\n",
            "\n",
            "Notes:\n",
            "[1] Standard Errors assume that the covariance matrix of the errors is correctly specified.\n"
          ]
        },
        {
          "output_type": "stream",
          "name": "stderr",
          "text": [
            "/usr/local/lib/python3.7/dist-packages/statsmodels/tsa/tsatools.py:142: FutureWarning: In a future version of pandas all arguments of concat except for the argument 'objs' will be keyword-only\n",
            "  x = pd.concat(x[::order], 1)\n"
          ]
        }
      ]
    },
    {
      "cell_type": "code",
      "source": [
        "# Creating a dependent variable prediction based on model\n",
        "X_train['y_pred'] = results.predict(X_train)\n",
        "\n",
        "#extracting the RMSE for the train data\n",
        "rmse = sm.tools.eval_measures.rmse(y_train, X_train['y_pred'])\n",
        "print(rmse)"
      ],
      "metadata": {
        "colab": {
          "base_uri": "https://localhost:8080/"
        },
        "id": "DlZxU9ZtLusz",
        "outputId": "9bfa676b-574c-4832-c78a-1406c112411f"
      },
      "execution_count": 61,
      "outputs": [
        {
          "output_type": "stream",
          "name": "stdout",
          "text": [
            "3202.874359145644\n"
          ]
        }
      ]
    },
    {
      "cell_type": "code",
      "source": [
        "# Feature engineering on the test data\n",
        "\n",
        "X_test = X_test[feature_train]\n",
        "X_test = feature_eng(X_test)"
      ],
      "metadata": {
        "colab": {
          "base_uri": "https://localhost:8080/"
        },
        "id": "T6Pyy4PyL5n_",
        "outputId": "247eb8b0-e321-4dd2-e8ad-d7f3f83ae01c"
      },
      "execution_count": 62,
      "outputs": [
        {
          "output_type": "stream",
          "name": "stderr",
          "text": [
            "/usr/local/lib/python3.7/dist-packages/statsmodels/tsa/tsatools.py:142: FutureWarning: In a future version of pandas all arguments of concat except for the argument 'objs' will be keyword-only\n",
            "  x = pd.concat(x[::order], 1)\n"
          ]
        }
      ]
    },
    {
      "cell_type": "code",
      "source": [
        "#Test data: predicting the dependent variable and calculating the rmse\n",
        "\n",
        "X_test['y_pred'] = results.predict(X_test)\n",
        "rmse = sm.tools.eval_measures.rmse(y_test, X_test['y_pred'])\n",
        "print(rmse)"
      ],
      "metadata": {
        "colab": {
          "base_uri": "https://localhost:8080/"
        },
        "id": "BzN2KrXiL8Vy",
        "outputId": "62d81b9c-7326-4c02-b0e3-dc3ed614e61d"
      },
      "execution_count": 63,
      "outputs": [
        {
          "output_type": "stream",
          "name": "stdout",
          "text": [
            "3235.0589553889426\n"
          ]
        }
      ]
    },
    {
      "cell_type": "markdown",
      "source": [
        "Model 2"
      ],
      "metadata": {
        "id": "iVe6wuMSRLry"
      }
    },
    {
      "cell_type": "code",
      "source": [
        "#Create a list of all cars columns\n",
        "feature_train = list(cars.columns)\n",
        "\n",
        "#Remove the depedendent variable (price_gbp)\n",
        "feature_train.remove('price_gbp')"
      ],
      "metadata": {
        "id": "Z7CcvGL6RcoT"
      },
      "execution_count": 71,
      "outputs": []
    },
    {
      "cell_type": "code",
      "source": [
        "#Creating the X variable which features only the indepdent variables\n",
        "X = cars[feature_train]\n",
        "\n",
        "#Creating the y variable which features only the depedent variable\n",
        "y = cars['price_gbp']"
      ],
      "metadata": {
        "id": "PD5UrPPMRgmI"
      },
      "execution_count": 72,
      "outputs": []
    },
    {
      "cell_type": "code",
      "source": [
        "# Creating 4 portions of data which will be used for fitting and predicting values.\n",
        "# The test size as '0.2' meaning 80% of data will be used to create the model and 20% will be used to 'test' the model\n",
        "# y_train and y_test is the dependent variable, in this case 'price_gbp'\n",
        "# We used the random state 45 across all our models to ensure validity\n",
        "\n",
        "X_train, X_test, y_train, y_test = train_test_split(X, y, test_size = 0.2, random_state = 45)"
      ],
      "metadata": {
        "id": "tMYaN9mzRowg"
      },
      "execution_count": 73,
      "outputs": []
    },
    {
      "cell_type": "code",
      "source": [
        "#Feature engineering (2)\n",
        "#Estimated that transmission, body, and ULEZ are not that relevant\n",
        "\n",
        "def feature_eng(inputed):\n",
        "  # Scaling the columns: 'BHP', 'mileage', 'owners' and 'engine_l'\n",
        "  inputed1 = inputed[[\"BHP\",\"mileage\",\"owners\",\"engine_l\", \"year\"]].copy()\n",
        "  inputed1['BHP'] = scaling(inputed[[\"BHP\"]])\n",
        "  inputed1['mileage'] = scaling(inputed[[\"mileage\"]])\n",
        "  inputed1['engine_l'] = scaling(inputed[[\"engine_l\"]])\n",
        "  inputed1[\"year\"] = scaling(inputed[[\"year\"]])\n",
        "  \n",
        "  # One hot encoding: 'year_old', 'car_model', 'transmission', 'fuel', 'body', 'ULEZ'\n",
        "  inputed2= pd.get_dummies(inputed[[\"car model\", \"fuel\"]], columns = [\"car model\", \"fuel\"], prefix = [\"car model\", \"fuel\"], drop_first=True)\n",
        "  \n",
        "  #Join the scaled and one hot encoded data\n",
        "  inputed1 = inputed2.join(inputed1)\n",
        "  \n",
        "  #add a constant\n",
        "  inputed1 = sm.add_constant(inputed1)\n",
        "  \n",
        "  return inputed1"
      ],
      "metadata": {
        "id": "p8wbokCXKMot"
      },
      "execution_count": 74,
      "outputs": []
    },
    {
      "cell_type": "code",
      "source": [
        "# Feature engineering the train data\n",
        "\n",
        "X_train = feature_eng(X_train)"
      ],
      "metadata": {
        "colab": {
          "base_uri": "https://localhost:8080/"
        },
        "id": "erpK2PTHxEiN",
        "outputId": "d6722c9f-259a-478d-bf4d-0fc2e37ff418"
      },
      "execution_count": 75,
      "outputs": [
        {
          "output_type": "stream",
          "name": "stderr",
          "text": [
            "/usr/local/lib/python3.7/dist-packages/statsmodels/tsa/tsatools.py:142: FutureWarning: In a future version of pandas all arguments of concat except for the argument 'objs' will be keyword-only\n",
            "  x = pd.concat(x[::order], 1)\n"
          ]
        }
      ]
    },
    {
      "cell_type": "code",
      "source": [
        "#Fitting a linear regression on the train data\n",
        "\n",
        "lin_reg = sm.OLS(y_train, X_train)\n",
        "results = lin_reg.fit()\n",
        "print(results.summary())"
      ],
      "metadata": {
        "colab": {
          "base_uri": "https://localhost:8080/"
        },
        "id": "qFI-ArSsxSaQ",
        "outputId": "60298cba-d7b6-4436-9968-655fa9c9beb0"
      },
      "execution_count": 76,
      "outputs": [
        {
          "output_type": "stream",
          "name": "stdout",
          "text": [
            "                            OLS Regression Results                            \n",
            "==============================================================================\n",
            "Dep. Variable:              price_gbp   R-squared:                       0.889\n",
            "Model:                            OLS   Adj. R-squared:                  0.888\n",
            "Method:                 Least Squares   F-statistic:                     4422.\n",
            "Date:                Fri, 28 Oct 2022   Prob (F-statistic):               0.00\n",
            "Time:                        11:37:01   Log-Likelihood:                -63483.\n",
            "No. Observations:                6665   AIC:                         1.270e+05\n",
            "Df Residuals:                    6652   BIC:                         1.271e+05\n",
            "Df Model:                          12                                         \n",
            "Covariance Type:            nonrobust                                         \n",
            "==============================================================================================\n",
            "                                 coef    std err          t      P>|t|      [0.025      0.975]\n",
            "----------------------------------------------------------------------------------------------\n",
            "const                       1.297e+04    128.021    101.304      0.000    1.27e+04    1.32e+04\n",
            "car model_BMW 3 SERIES      3005.3366    124.467     24.146      0.000    2761.341    3249.332\n",
            "car model_BMW 5 SERIES      7311.6566    486.065     15.043      0.000    6358.814    8264.499\n",
            "car model_BMW M3            1.846e+04    704.039     26.227      0.000    1.71e+04    1.98e+04\n",
            "fuel_Diesel Hybrid          7918.8439    244.086     32.443      0.000    7440.357    8397.331\n",
            "fuel_Petrol                 1587.4296     95.623     16.601      0.000    1399.978    1774.881\n",
            "fuel_Petrol Hybrid          1.024e+04    398.918     25.675      0.000    9460.124     1.1e+04\n",
            "fuel_Petrol Plug-in Hybrid  4929.3060    178.020     27.690      0.000    4580.330    5278.282\n",
            "BHP                          -11.4041     49.344     -0.231      0.817    -108.134      85.325\n",
            "mileage                    -3024.5047     63.199    -47.857      0.000   -3148.396   -2900.614\n",
            "owners                       -11.3276     25.979     -0.436      0.663     -62.254      39.599\n",
            "engine_l                    2124.0976     49.335     43.055      0.000    2027.385    2220.810\n",
            "year                        6183.4108     66.694     92.713      0.000    6052.669    6314.152\n",
            "==============================================================================\n",
            "Omnibus:                      524.050   Durbin-Watson:                   2.013\n",
            "Prob(Omnibus):                  0.000   Jarque-Bera (JB):              996.921\n",
            "Skew:                           0.548   Prob(JB):                    3.32e-217\n",
            "Kurtosis:                       4.545   Cond. No.                         43.1\n",
            "==============================================================================\n",
            "\n",
            "Notes:\n",
            "[1] Standard Errors assume that the covariance matrix of the errors is correctly specified.\n"
          ]
        }
      ]
    },
    {
      "cell_type": "code",
      "source": [
        "# Creating a dependent variable prediction based on model\n",
        "X_train['y_pred'] = results.predict(X_train)\n",
        "\n",
        "#extracting the RMSE for the train data\n",
        "rmse = sm.tools.eval_measures.rmse(y_train, X_train['y_pred'])\n",
        "print(rmse)"
      ],
      "metadata": {
        "colab": {
          "base_uri": "https://localhost:8080/"
        },
        "id": "ZCoVbAWn1e3f",
        "outputId": "17eb5b6e-db91-4a0d-e0cd-bbd021a6c9a9"
      },
      "execution_count": 77,
      "outputs": [
        {
          "output_type": "stream",
          "name": "stdout",
          "text": [
            "3314.052146905398\n"
          ]
        }
      ]
    },
    {
      "cell_type": "code",
      "source": [
        "# Feature engineering on the test data\n",
        "\n",
        "X_test = X_test[feature_train]\n",
        "X_test = feature_eng(X_test)"
      ],
      "metadata": {
        "colab": {
          "base_uri": "https://localhost:8080/"
        },
        "id": "Htx6o5LB2mdF",
        "outputId": "697ff7a9-a5fc-4c59-b4d5-f58683a0fb4c"
      },
      "execution_count": 78,
      "outputs": [
        {
          "output_type": "stream",
          "name": "stderr",
          "text": [
            "/usr/local/lib/python3.7/dist-packages/statsmodels/tsa/tsatools.py:142: FutureWarning: In a future version of pandas all arguments of concat except for the argument 'objs' will be keyword-only\n",
            "  x = pd.concat(x[::order], 1)\n"
          ]
        }
      ]
    },
    {
      "cell_type": "code",
      "source": [
        "#Test data: predicting the dependent variable and calculating the rmse\n",
        "\n",
        "X_test['y_pred'] = results.predict(X_test)\n",
        "rmse = sm.tools.eval_measures.rmse(y_test, X_test['y_pred'])\n",
        "print(rmse)"
      ],
      "metadata": {
        "colab": {
          "base_uri": "https://localhost:8080/"
        },
        "id": "3DhdXUk92zrX",
        "outputId": "82cc2fe9-5466-4801-9e10-5a5919eae026"
      },
      "execution_count": 79,
      "outputs": [
        {
          "output_type": "stream",
          "name": "stdout",
          "text": [
            "3323.336454351751\n"
          ]
        }
      ]
    },
    {
      "cell_type": "markdown",
      "source": [
        "**Investigating multicolinearity** in Model 2"
      ],
      "metadata": {
        "id": "awv-f7kH9JWJ"
      }
    },
    {
      "cell_type": "code",
      "source": [
        "X_train.columns"
      ],
      "metadata": {
        "colab": {
          "base_uri": "https://localhost:8080/"
        },
        "id": "9SccCyqzSuy-",
        "outputId": "73e41e2d-10d2-4d37-d61d-3c8a35ebf8af"
      },
      "execution_count": 80,
      "outputs": [
        {
          "output_type": "execute_result",
          "data": {
            "text/plain": [
              "Index(['const', 'car model_BMW 3 SERIES', 'car model_BMW 5 SERIES',\n",
              "       'car model_BMW M3', 'fuel_Diesel Hybrid', 'fuel_Petrol',\n",
              "       'fuel_Petrol Hybrid', 'fuel_Petrol Plug-in Hybrid', 'BHP', 'mileage',\n",
              "       'owners', 'engine_l', 'year', 'y_pred'],\n",
              "      dtype='object')"
            ]
          },
          "metadata": {},
          "execution_count": 80
        }
      ]
    },
    {
      "cell_type": "code",
      "source": [
        "#Correlation - no strong multicoliniearity between the selected features\n",
        "\n",
        "sns.heatmap(X_train[['car model_BMW M3', 'BHP', 'mileage',\n",
        "       'owners', 'engine_l', 'year']].corr(),\n",
        "            annot=True,\n",
        "            vmin=-1,\n",
        "            vmax=1,\n",
        "            robust=False,\n",
        "            center=0\n",
        "            )\n",
        "plt.show()\n",
        "\n",
        "# mileage and year inveresely correlate - likely because newer cars had less opportunity to be driven as opposed to older cars"
      ],
      "metadata": {
        "colab": {
          "base_uri": "https://localhost:8080/",
          "height": 358
        },
        "id": "EzDq5MBLB4qz",
        "outputId": "83f28dee-5518-4a2e-ceb2-437a0eccba32"
      },
      "execution_count": 86,
      "outputs": [
        {
          "output_type": "display_data",
          "data": {
            "text/plain": [
              "<Figure size 432x288 with 2 Axes>"
            ],
            "image/png": "[encoded data removed]"
          },
          "metadata": {
            "needs_background": "light"
          }
        }
      ]
    },
    {
      "cell_type": "code",
      "source": [
        "# Investigating the variance Inflation Factor (VIF).\n",
        "\n",
        "# creating an empty dataframe\n",
        "vif_df = pd.DataFrame()\n",
        "\n",
        "# choosing VIF features\n",
        "vif_df[\"feature\"] = X_train[['car model_BMW M3', 'BHP', 'mileage',\n",
        "       'owners', 'engine_l', 'year']].columns "
      ],
      "metadata": {
        "id": "xAJlAhih9lOW"
      },
      "execution_count": 88,
      "outputs": []
    },
    {
      "cell_type": "code",
      "source": [
        "# calculating VIF for each feature\n",
        "vif_df[\"VIF\"] = [variance_inflation_factor(X_train[['car model_BMW M3', 'BHP', 'mileage',\n",
        "       'owners', 'engine_l', 'year']].values, i) \n",
        "                          for i in range(len(X_train[['car model_BMW M3', 'BHP', 'mileage',\n",
        "       'owners', 'engine_l', 'year']].columns))]"
      ],
      "metadata": {
        "id": "B09XuaA99nzd"
      },
      "execution_count": 90,
      "outputs": []
    },
    {
      "cell_type": "code",
      "source": [
        "#Checking the VIF scores \n",
        "vif_df\n",
        "\n",
        "#all scores are below 5, indicating that there should not be multicoliniarity between the selected features"
      ],
      "metadata": {
        "id": "b9bY-hIG9quq",
        "colab": {
          "base_uri": "https://localhost:8080/",
          "height": 237
        },
        "outputId": "d23ace23-bbf9-47fb-9b27-180610dbda4f"
      },
      "execution_count": 91,
      "outputs": [
        {
          "output_type": "execute_result",
          "data": {
            "text/plain": [
              "            feature       VIF\n",
              "0  car model_BMW M3  1.107750\n",
              "1               BHP  1.404991\n",
              "2           mileage  2.103981\n",
              "3            owners  1.107706\n",
              "4          engine_l  1.374143\n",
              "5              year  2.249342"
            ],
            "text/html": [
              "\n",
              "  <div id=\"df-8353d692-27b4-46b1-b022-9bcb5105736f\">\n",
              "    <div class=\"colab-df-container\">\n",
              "      <div>\n",
              "<style scoped>\n",
              "    .dataframe tbody tr th:only-of-type {\n",
              "        vertical-align: middle;\n",
              "    }\n",
              "\n",
              "    .dataframe tbody tr th {\n",
              "        vertical-align: top;\n",
              "    }\n",
              "\n",
              "    .dataframe thead th {\n",
              "        text-align: right;\n",
              "    }\n",
              "</style>\n",
              "<table border=\"1\" class=\"dataframe\">\n",
              "  <thead>\n",
              "    <tr style=\"text-align: right;\">\n",
              "      <th></th>\n",
              "      <th>feature</th>\n",
              "      <th>VIF</th>\n",
              "    </tr>\n",
              "  </thead>\n",
              "  <tbody>\n",
              "    <tr>\n",
              "      <th>0</th>\n",
              "      <td>car model_BMW M3</td>\n",
              "      <td>1.107750</td>\n",
              "    </tr>\n",
              "    <tr>\n",
              "      <th>1</th>\n",
              "      <td>BHP</td>\n",
              "      <td>1.404991</td>\n",
              "    </tr>\n",
              "    <tr>\n",
              "      <th>2</th>\n",
              "      <td>mileage</td>\n",
              "      <td>2.103981</td>\n",
              "    </tr>\n",
              "    <tr>\n",
              "      <th>3</th>\n",
              "      <td>owners</td>\n",
              "      <td>1.107706</td>\n",
              "    </tr>\n",
              "    <tr>\n",
              "      <th>4</th>\n",
              "      <td>engine_l</td>\n",
              "      <td>1.374143</td>\n",
              "    </tr>\n",
              "    <tr>\n",
              "      <th>5</th>\n",
              "      <td>year</td>\n",
              "      <td>2.249342</td>\n",
              "    </tr>\n",
              "  </tbody>\n",
              "</table>\n",
              "</div>\n",
              "      <button class=\"colab-df-convert\" onclick=\"convertToInteractive('df-8353d692-27b4-46b1-b022-9bcb5105736f')\"\n",
              "              title=\"Convert this dataframe to an interactive table.\"\n",
              "              style=\"display:none;\">\n",
              "        \n",
              "  <svg xmlns=\"http://www.w3.org/2000/svg\" height=\"24px\"viewBox=\"0 0 24 24\"\n",
              "       width=\"24px\">\n",
              "    <path d=\"M0 0h24v24H0V0z\" fill=\"none\"/>\n",
              "    <path d=\"M18.56 5.44l.94 2.06.94-2.06 2.06-.94-2.06-.94-.94-2.06-.94 2.06-2.06.94zm-11 1L8.5 8.5l.94-2.06 2.06-.94-2.06-.94L8.5 2.5l-.94 2.06-2.06.94zm10 10l.94 2.06.94-2.06 2.06-.94-2.06-.94-.94-2.06-.94 2.06-2.06.94z\"/><path d=\"M17.41 7.96l-1.37-1.37c-.4-.4-.92-.59-1.43-.59-.52 0-1.04.2-1.43.59L10.3 9.45l-7.72 7.72c-.78.78-.78 2.05 0 2.83L4 21.41c.39.39.9.59 1.41.59.51 0 1.02-.2 1.41-.59l7.78-7.78 2.81-2.81c.8-.78.8-2.07 0-2.86zM5.41 20L4 18.59l7.72-7.72 1.47 1.35L5.41 20z\"/>\n",
              "  </svg>\n",
              "      </button>\n",
              "      \n",
              "  <style>\n",
              "    .colab-df-container {\n",
              "      display:flex;\n",
              "      flex-wrap:wrap;\n",
              "      gap: 12px;\n",
              "    }\n",
              "\n",
              "    .colab-df-convert {\n",
              "      background-color: #E8F0FE;\n",
              "      border: none;\n",
              "      border-radius: 50%;\n",
              "      cursor: pointer;\n",
              "      display: none;\n",
              "      fill: #1967D2;\n",
              "      height: 32px;\n",
              "      padding: 0 0 0 0;\n",
              "      width: 32px;\n",
              "    }\n",
              "\n",
              "    .colab-df-convert:hover {\n",
              "      background-color: #E2EBFA;\n",
              "      box-shadow: 0px 1px 2px rgba(60, 64, 67, 0.3), 0px 1px 3px 1px rgba(60, 64, 67, 0.15);\n",
              "      fill: #174EA6;\n",
              "    }\n",
              "\n",
              "    [theme=dark] .colab-df-convert {\n",
              "      background-color: #3B4455;\n",
              "      fill: #D2E3FC;\n",
              "    }\n",
              "\n",
              "    [theme=dark] .colab-df-convert:hover {\n",
              "      background-color: #434B5C;\n",
              "      box-shadow: 0px 1px 3px 1px rgba(0, 0, 0, 0.15);\n",
              "      filter: drop-shadow(0px 1px 2px rgba(0, 0, 0, 0.3));\n",
              "      fill: #FFFFFF;\n",
              "    }\n",
              "  </style>\n",
              "\n",
              "      <script>\n",
              "        const buttonEl =\n",
              "          document.querySelector('#df-8353d692-27b4-46b1-b022-9bcb5105736f button.colab-df-convert');\n",
              "        buttonEl.style.display =\n",
              "          google.colab.kernel.accessAllowed ? 'block' : 'none';\n",
              "\n",
              "        async function convertToInteractive(key) {\n",
              "          const element = document.querySelector('#df-8353d692-27b4-46b1-b022-9bcb5105736f');\n",
              "          const dataTable =\n",
              "            await google.colab.kernel.invokeFunction('convertToInteractive',\n",
              "                                                     [key], {});\n",
              "          if (!dataTable) return;\n",
              "\n",
              "          const docLinkHtml = 'Like what you see? Visit the ' +\n",
              "            '<a target=\"_blank\" href=https://colab.research.google.com/notebooks/data_table.ipynb>data table notebook</a>'\n",
              "            + ' to learn more about interactive tables.';\n",
              "          element.innerHTML = '';\n",
              "          dataTable['output_type'] = 'display_data';\n",
              "          await google.colab.output.renderOutput(dataTable, element);\n",
              "          const docLink = document.createElement('div');\n",
              "          docLink.innerHTML = docLinkHtml;\n",
              "          element.appendChild(docLink);\n",
              "        }\n",
              "      </script>\n",
              "    </div>\n",
              "  </div>\n",
              "  "
            ]
          },
          "metadata": {},
          "execution_count": 91
        }
      ]
    },
    {
      "cell_type": "markdown",
      "source": [
        "**Next:** improve models to minimize the RMSE; create a function that predicts car prices."
      ],
      "metadata": {
        "id": "0IhTo_aDRezk"
      }
    },
    {
      "cell_type": "code",
      "source": [],
      "metadata": {
        "id": "01cptn2b9tbo"
      },
      "execution_count": null,
      "outputs": []
    }
  ]
}